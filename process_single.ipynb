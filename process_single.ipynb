{
 "cells": [
  {
   "cell_type": "code",
   "execution_count": 1,
   "metadata": {},
   "outputs": [],
   "source": [
    "import pandas as pd\n",
    "import re\n",
    "import os "
   ]
  },
  {
   "cell_type": "code",
   "execution_count": 2,
   "metadata": {},
   "outputs": [],
   "source": [
    "file_path = \"entre-nous2.txt\""
   ]
  },
  {
   "cell_type": "code",
   "execution_count": 3,
   "metadata": {},
   "outputs": [],
   "source": [
    "base_name = os.path.basename(file_path)"
   ]
  },
  {
   "cell_type": "code",
   "execution_count": 4,
   "metadata": {},
   "outputs": [],
   "source": [
    "with open(file_path, 'r') as file:\n",
    "    cards = file.read()"
   ]
  },
  {
   "cell_type": "code",
   "execution_count": 5,
   "metadata": {},
   "outputs": [
    {
     "data": {
      "text/plain": [
       "\"### Card 14\\nFront\\n* vÃƒÂ©ritable. un vÃƒÂ©ritable succÃƒÂ¨s\\n\\nBack\\n* true, veritable\\n\\n### Card 15\\nFront\\n* tournÃƒÂ©e. tournÃƒÂ©es musicales\\n\\nBack\\n* tour. musical tour\\n\\n### Card 16\\nFront\\n* se rÃƒÂ©unir. Des chanteurs cÃƒÂ©lÃƒÂ¨bres francophones solidaires se reunissent pour faire de concerts.\\n\\nBack\\n* unite, assemble. Famous francophone singers in solidarity get together to make concerts.\\n\\n### Card 17\\nFront\\n* tous les ans\\n\\nBack\\n* every year\\n\\n### Card 18\\nFront\\n* solidaire. Des chanteurs cÃƒÂ©lÃƒÂ¨bres francophones solidaires se reunissent pour faire de concerts.\\n\\nBack\\n* united. Famous francophone singers in solidarity get together to make concerts.\\n\\n### Card 19\\nFront\\n* entreprise de maÃƒÂ§onnerie\\n\\nBack\\n* masonry business. doanh nghi?p th? xÃƒÂ¢y\\n\\n### Card 20\\nFront\\n* la crise. la crise economique\\n\\nBack\\n* crisis. economic crisis\\n\\n### Card 21\\nFront\\n* lutter contre. lutter contre les discriminations\\n\\nBack\\n* fight again. fight against discrimination\\n\\n### Card 22\\nFront\\n* l'ÃƒÂ©galitÃƒÂ©. l'ÃƒÂ©galitÃƒÂ© homme-femme\\n\\nBack\\n* legality(quy?n bÃƒÂ¬nh d?ng)\\n\\n### Card 23\\nFront\\n* concrÃƒÂ¨tement\\n\\nBack\\n* concretely(c? th?)\\n\\n### Card 24\\nFront\\n* un tÃƒÂ©moignage\\n\\nBack\\n* a testimony(1 l?i khai)\\n\\n### Card 25\\nFront\\n* merci ÃƒÂ\\xa0 vous de m'avoir recue\\n\\nBack\\n* thank you for receiving me(cÃƒÂ¢u c?m on sau khi dÃƒÂ£ ph?ng v?n thÃƒÂ\\xa0nh cÃƒÂ´ng)\\n\\n### Card 26\\nFront\\n* s'habiller ÃƒÂ©thique. Vous nous donnez des conseils pour s'habiller ÃƒÂ©thique\\n\\nBack\\n* ethical dress. Kind of fashion suitable for working condition and environment.\\n\\n### Card 27\\nFront\\n* polluer la planÃƒÂ¨te\\n\\nBack\\n* pollute the planet\\n\\n### Card 28\\nFront\\n* transparente. elle est transparente\\n\\nBack\\n* transparent(minh b?ch).she is transparent\\n\\n### Card 29\\nFront\\n* les textiles\\n\\nBack\\n* textiles(d?t may)\\n\\n### Card 30\\nFront\\n* le lin\\n\\nBack\\n* v?i lanh\\n\\n### Card 31\\nFront\\n* ÃƒÂ©normÃƒÂ©ment\\n\\nBack\\n* enormously\\n\\n### Card 32\\nFront\\n* pire. ma femme est pire que le coronavirus\\n\\nBack\\n* worse. my wife is worse than coronavirus\\n\\n### Card 33\\nFront\\n* vÃƒÂªtement retouches\\n\\nBack\\n* retouching clothing(ch?nh s?a qu?n ÃƒÂ¡o)\\n\\n### Card 34\\nFront\\n* diÃƒÂ©tÃƒÂ©ticien(n)\\n\\nBack\\n* bÃƒÂ¡c s? dinh du?ng\\n\\n### Card 35\\nFront\\n* l'alimentation\\n\\nBack\\n* food\\n\\n### Card 36\\nFront\\n* le rÃƒÂ©gime vÃƒÂ©gÃƒÂ©tarien\\n\\nBack\\n* the vegetarian diet\\n\\n### Card 37\\nFront\\n* consomment. Ils ne consomment pas de poisson?\\n\\nBack\\n* consume\\n\\n### Card 38\\nFront\\n* sec. lÃƒÂ©gume sec\\n\\nBack\\n* dry\\n\\n### Card 39\\nFront\\n* apparemment. Apparemment nous sommes toujours de bons vivants\\n\\nBack\\n* apparently\\n\\n### Card 40\\nFront\\n* seconde\\n\\nBack\\n* second(giÃƒÂ¢y)\\n\\n### Card 41\\nFront\\n* camembert\\n\\nBack\\n* A kind of fromage ÃƒÂ\\xa0 pÃƒÂ¢te\\n\\n### Card 42\\nFront\\n* la farine\\n\\nBack\\n* b?t m?\\n\\n### Card 43\\nFront\\n* un morceau de boeuf\\n\\nBack\\n* 1 mi?ng th?t bÃƒÂ²\\n\\n### Card 44\\nFront\\n* ÃƒÂ©galement. Je vais prendre du jambon ÃƒÂ©galement\\n\\nBack\\n* also\\n\\n### Card 45\\nFront\\n* vous allez vous rÃƒÂ©galer\\n\\nBack\\n* You will like it.\\n\\n### Card 46\\nFront\\n* gaspillage(noun).gaspillage alimentaire\\n\\nBack\\n* food waste\\n\\n### Card 47\\nFront\\n* jeter(v). la nourriture jetÃƒÂ©e\\n\\nBack\\n* discard. Th?c an b? di\\n\\n### Card 48\\nFront\\n* foyer\\n\\nBack\\n* home,house\\n\\n### Card 49\\nFront\\n* planifier(v). Je planifie vos repas.\\n\\nBack\\n* plan\\n\\n### Card 50\\nFront\\n* gestes(n)\\n\\nBack\\n* gesture\\n\\n### Card 51\\nFront\\n* congeler(v). vous pouvez congele vos plats.\\n\\nBack\\n* freeze\\n\\n### Card 52\\nFront\\n* ÃƒÂ¨spÃƒÂ¨ces. prendez des espÃƒÂ¨ces ÃƒÂ\\xa0 la banque\\n\\nBack\\n* cash. take cash at the bank\\n\\n### Card 53\\nFront\\n* en panne. mon beau portable est bien en panne\\n\\nBack\\n* out of order, broken down. my beautiful laptop is broken down\\n\\n### Card 54\\nFront\\n* faire une opposition bancaire\\n\\nBack\\n* file a bank opposition(khi?u n?i ph?n d?i ngÃƒÂ¢n hÃƒÂ\\xa0ng)\\n\\n### Card 55\\nFront\\n* avaler. Herve n'arrive pas ÃƒÂ\\xa0 avaler\\n\\nBack\\n* swallow. Herve can't swallow\\n\\n### Card 56\\nFront\\n* soigner. Valier soigne son visage\\n\\nBack\\n* treat,hear\\n\\n### Card 57\\nFront\\n* comprimÃƒÂ©s\\n\\nBack\\n* tablets(mÃƒÂ¡y tÃƒÂ\\xadnh b?ng)\\n\\n### Card 58\\nFront\\n* gorge. Je vous prescris aussi du sirop pour la gorge\\n\\nBack\\n* throat. TÃƒÂ´i cung kÃƒÂª xi-rÃƒÂ´ cho c? h?ng\\n\\n### Card 59\\nFront\\n* arrachÃƒÂ©. Un homme l'a arrachÃƒÂ© et s'est enfui\\n\\nBack\\n* rip off(xÃƒÂ©).A man ripped it off and run away\\n\\n### Card 60\\nFront\\n* un appareil\\n\\nBack\\n* a device\\n\\n### Card 61\\nFront\\n* demande de prÃƒÂªt\\n\\nBack\\n* loan request\\n\\n### Card 62\\nFront\\n* ci-jointe. Par courrier en retournant la demande ci-jointe complÃƒÂ©tÃƒÂ©e et signÃƒÂ©e\\n\\nBack\\n* attached. By mail by returning the attached request completed and signed\\n\\n### Card 63\\nFront\\n* sang\\n\\nBack\\n* blood\\n\\n### Card 64\\nFront\\n* allonger. Un jeune homme allongÃƒÂ© par terre avec du sang sur la visage\\n\\nBack\\n* lie down.young man lying on the ground with blood on his face\\n\\n### Card 65\\nFront\\n* le guichet de la banque\\n\\nBack\\n* the bank counter(qu?y ngÃƒÂ¢n hÃƒÂ\\xa0ng)\\n\\n### Card 66\\nFront\\n* trembler. L'employÃƒÂ© tremblait de peur\\n\\nBack\\n* tremble(run s?). NhÃƒÂ¢n viÃƒÂªn run r?y vÃƒÂ¬ s? hÃƒÂ£i.\\n\\n### Card 67\\nFront\\n* tachÃƒÂ©. Le despanneur a renversÃƒÂ© de l'huile sur moquette et maitenant elle est tachÃƒÂ©\\n\\nBack\\n* spotted(b? b?n). The despanneur spilled oil on carpet and now it is stained\\n\\n### Card 68\\nFront\\n* cassÃƒÂ©(adj). J'ai fait tomber la lampe et elle est cassÃƒÂ©\\n\\nBack\\n* broken. I dropped the lamp and it is broken\\n\\n### Card 69\\nFront\\n* rÃƒÂ©glage. Le chaufage a un mauvais rÃƒÂ©glage\\n\\nBack\\n* setting, adjustment. The heating has wrong setting\\n\\n### Card 70\\nFront\\n* dÃƒÂ©fectueux. L'ordinateur presente un grave default : il est dÃƒÂ©fectueux\\n\\nBack\\n* defective, not working. The computer has a serious fault: it is defective\\n\\n### Card 71\\nFront\\n* en panne. le moteur s'est arrete et la voture est en panne\\n\\nBack\\n* out of order. the engine stopped and the car broke down\\n\\n### Card 72\\nFront\\n* boucher. il y a de l'eau partout parce que le lavabo est bouchÃƒÂ©\\n\\nBack\\n* block. there is water everywhere because the sink is blocked\\n\\n### Card 73\\nFront\\n* coincÃƒÂ©. je me suis coincÃƒÂ©\\n\\nBack\\n* stuck. I got stuck\\n\\n### Card 74\\nFront\\n* anomalie(n). C'est dangereux anomalie\\n\\nBack\\n* anomaly(di?u b?t thu?ng). It's dangerous anomaly\\n\\n### Card 75\\nFront\\n* court-circuit(n). Ex : L'electricitÃƒÂ© a sautÃƒÂ© quand j'ai branchÃƒÂ© la tÃƒÂ©lÃƒÂ©vision:il y a eu un court-circuit\\n\\nBack\\n* hi?n tu?ng do?n m?ch. Electricity went out when I turned on the television:there was a short circuit\\n\\n### Card 76\\nFront\\n* brancher. Tu laisses passer le courant en branchant la prise esletrique.\\n\\nBack\\n* connect. You let the current flow by plugging in the outlet\\n\\n### Card 77\\nFront\\n* santÃƒÂ©. En faisant du sport rÃƒÂ©guliÃƒÂ¨rement, tu n'auras pas de problÃƒÂ¨me de santÃƒÂ©\\n\\nBack\\n* health. By playing sports regularly,you will not have any health problems\\n\\n### Card 78\\nFront\\n* douleur(n). Vous n'aurez pas de douleurs dans les jambes en suÃƒÂ§ant beaucoup d'eau.\\n\\nBack\\n* pain. You will not have pain in your legs when you suck a lot of water\\n\\n### Card 79\\nFront\\n* vidanger(v). vidange de l'appareil\\n\\nBack\\n* empty(v). emptying the appliance(lÃƒÂ\\xa0m tr?ng thi?t b?)\\n\\n### Card 80\\nFront\\n* fuiter. fuite d'eau\\n\\nBack\\n* leak. water leak\\n\\n### Card 81\\nFront\\n* les tÃƒÂ¢ches\\n\\nBack\\n* the tasks\\n\\n### Card 82\\nFront\\n* oh ma pauvre !\\n\\nBack\\n* oh my god!\\n\\n### Card 83\\nFront\\n* voler(v). dÃƒÂ©claration de vol\\n\\nBack\\n* steal. report of theft\\n\\n### Card 84\\nFront\\n* dÃƒÂ©crire(v). Vous pouvez le dÃƒÂ©crire ?\\n\\nBack\\n* describe\\n\\n### Card 85\\nFront\\n* contenu(n). Vous pouvez dÃƒÂ©crire votre sac et son contenu\\n\\nBack\\n* content\\n\\n### Card 86\\nFront\\n* c'est ennuyeux !\\n\\nBack\\n* it's boring\\n\\n### Card 87\\nFront\\n* clignote(v).\\n\\nBack\\n* flashing(nh?p nhÃƒÂ¡y)\\n\\n### Card 88\\nFront\\n* le voyant. Quelquefois le voyant rouge clignote\\n\\nBack\\n* warning light\\n\\n### Card 89\\nFront\\n* montage ><dÃƒÂ©montage\\n\\nBack\\n* assembly><disassembly\\n\\n### Card 90\\nFront\\n* dÃƒÂ©fectueux(adj). Les piÃƒÂ¨ces dÃƒÂ©fectueuses\\n\\nBack\\n* defective(khi?m khuy?t)\\n\\n### Card 91\\nFront\\n* rÃƒÂ©glage(n)\\n\\nBack\\n* setting, regulation\""
      ]
     },
     "execution_count": 5,
     "metadata": {},
     "output_type": "execute_result"
    }
   ],
   "source": [
    "cards"
   ]
  },
  {
   "cell_type": "code",
   "execution_count": 6,
   "metadata": {},
   "outputs": [],
   "source": [
    "cards = cards.split('\\n###')"
   ]
  },
  {
   "cell_type": "code",
   "execution_count": 7,
   "metadata": {},
   "outputs": [],
   "source": [
    "df_cards = pd.DataFrame(cards,columns = ['text'])"
   ]
  },
  {
   "cell_type": "code",
   "execution_count": 8,
   "metadata": {},
   "outputs": [
    {
     "data": {
      "text/html": [
       "<div>\n",
       "<style scoped>\n",
       "    .dataframe tbody tr th:only-of-type {\n",
       "        vertical-align: middle;\n",
       "    }\n",
       "\n",
       "    .dataframe tbody tr th {\n",
       "        vertical-align: top;\n",
       "    }\n",
       "\n",
       "    .dataframe thead th {\n",
       "        text-align: right;\n",
       "    }\n",
       "</style>\n",
       "<table border=\"1\" class=\"dataframe\">\n",
       "  <thead>\n",
       "    <tr style=\"text-align: right;\">\n",
       "      <th></th>\n",
       "      <th>text</th>\n",
       "    </tr>\n",
       "  </thead>\n",
       "  <tbody>\n",
       "    <tr>\n",
       "      <th>0</th>\n",
       "      <td>### Card 14\\nFront\\n* vÃƒÂ©ritable. un vÃƒÂ©ri...</td>\n",
       "    </tr>\n",
       "    <tr>\n",
       "      <th>1</th>\n",
       "      <td>Card 15\\nFront\\n* tournÃƒÂ©e. tournÃƒÂ©es mus...</td>\n",
       "    </tr>\n",
       "    <tr>\n",
       "      <th>2</th>\n",
       "      <td>Card 16\\nFront\\n* se rÃƒÂ©unir. Des chanteurs...</td>\n",
       "    </tr>\n",
       "    <tr>\n",
       "      <th>3</th>\n",
       "      <td>Card 17\\nFront\\n* tous les ans\\n\\nBack\\n* eve...</td>\n",
       "    </tr>\n",
       "    <tr>\n",
       "      <th>4</th>\n",
       "      <td>Card 18\\nFront\\n* solidaire. Des chanteurs cÃ...</td>\n",
       "    </tr>\n",
       "    <tr>\n",
       "      <th>...</th>\n",
       "      <td>...</td>\n",
       "    </tr>\n",
       "    <tr>\n",
       "      <th>73</th>\n",
       "      <td>Card 87\\nFront\\n* clignote(v).\\n\\nBack\\n* fla...</td>\n",
       "    </tr>\n",
       "    <tr>\n",
       "      <th>74</th>\n",
       "      <td>Card 88\\nFront\\n* le voyant. Quelquefois le v...</td>\n",
       "    </tr>\n",
       "    <tr>\n",
       "      <th>75</th>\n",
       "      <td>Card 89\\nFront\\n* montage &gt;&lt;dÃƒÂ©montage\\n\\nB...</td>\n",
       "    </tr>\n",
       "    <tr>\n",
       "      <th>76</th>\n",
       "      <td>Card 90\\nFront\\n* dÃƒÂ©fectueux(adj). Les piÃ...</td>\n",
       "    </tr>\n",
       "    <tr>\n",
       "      <th>77</th>\n",
       "      <td>Card 91\\nFront\\n* rÃƒÂ©glage(n)\\n\\nBack\\n* se...</td>\n",
       "    </tr>\n",
       "  </tbody>\n",
       "</table>\n",
       "<p>78 rows × 1 columns</p>\n",
       "</div>"
      ],
      "text/plain": [
       "                                                 text\n",
       "0   ### Card 14\\nFront\\n* vÃƒÂ©ritable. un vÃƒÂ©ri...\n",
       "1    Card 15\\nFront\\n* tournÃƒÂ©e. tournÃƒÂ©es mus...\n",
       "2    Card 16\\nFront\\n* se rÃƒÂ©unir. Des chanteurs...\n",
       "3    Card 17\\nFront\\n* tous les ans\\n\\nBack\\n* eve...\n",
       "4    Card 18\\nFront\\n* solidaire. Des chanteurs cÃ...\n",
       "..                                                ...\n",
       "73   Card 87\\nFront\\n* clignote(v).\\n\\nBack\\n* fla...\n",
       "74   Card 88\\nFront\\n* le voyant. Quelquefois le v...\n",
       "75   Card 89\\nFront\\n* montage ><dÃƒÂ©montage\\n\\nB...\n",
       "76   Card 90\\nFront\\n* dÃƒÂ©fectueux(adj). Les piÃ...\n",
       "77   Card 91\\nFront\\n* rÃƒÂ©glage(n)\\n\\nBack\\n* se...\n",
       "\n",
       "[78 rows x 1 columns]"
      ]
     },
     "execution_count": 8,
     "metadata": {},
     "output_type": "execute_result"
    }
   ],
   "source": [
    "df_cards"
   ]
  },
  {
   "cell_type": "code",
   "execution_count": 9,
   "metadata": {},
   "outputs": [],
   "source": [
    "def front(text):\n",
    "    result = re.search('Front\\n\\* (.*)\\n\\nBack', text)\n",
    "    front_card = result.group(1)\n",
    "    return front_card\n",
    "\n",
    "def back(text):\n",
    "    result = re.search(r'Back\\n\\* (.*)', text)\n",
    "    back_card = result.group(1)\n",
    "    return back_card"
   ]
  },
  {
   "cell_type": "code",
   "execution_count": 10,
   "metadata": {},
   "outputs": [],
   "source": [
    "\n",
    "# cards = row['cards'].split('\\n###')\n",
    "# df_cards = pd.DataFrame(cards,columns = ['text'])\n",
    "df_cards['front'] = df_cards['text'].apply(front)\n",
    "df_cards['back'] = df_cards['text'].apply(back)\n",
    "df_cards = df_cards[['front','back']]\n",
    "path_csv = base_name[:-4] + '.csv'\n",
    "df_cards.to_csv(path_csv, index = False,encoding = 'utf-8-sig')"
   ]
  },
  {
   "cell_type": "code",
   "execution_count": 11,
   "metadata": {},
   "outputs": [
    {
     "data": {
      "text/html": [
       "<div>\n",
       "<style scoped>\n",
       "    .dataframe tbody tr th:only-of-type {\n",
       "        vertical-align: middle;\n",
       "    }\n",
       "\n",
       "    .dataframe tbody tr th {\n",
       "        vertical-align: top;\n",
       "    }\n",
       "\n",
       "    .dataframe thead th {\n",
       "        text-align: right;\n",
       "    }\n",
       "</style>\n",
       "<table border=\"1\" class=\"dataframe\">\n",
       "  <thead>\n",
       "    <tr style=\"text-align: right;\">\n",
       "      <th></th>\n",
       "      <th>front</th>\n",
       "      <th>back</th>\n",
       "    </tr>\n",
       "  </thead>\n",
       "  <tbody>\n",
       "    <tr>\n",
       "      <th>0</th>\n",
       "      <td>vÃƒÂ©ritable. un vÃƒÂ©ritable succÃƒÂ¨s</td>\n",
       "      <td>true, veritable</td>\n",
       "    </tr>\n",
       "    <tr>\n",
       "      <th>1</th>\n",
       "      <td>tournÃƒÂ©e. tournÃƒÂ©es musicales</td>\n",
       "      <td>tour. musical tour</td>\n",
       "    </tr>\n",
       "    <tr>\n",
       "      <th>2</th>\n",
       "      <td>se rÃƒÂ©unir. Des chanteurs cÃƒÂ©lÃƒÂ¨bres fra...</td>\n",
       "      <td>unite, assemble. Famous francophone singers in...</td>\n",
       "    </tr>\n",
       "    <tr>\n",
       "      <th>3</th>\n",
       "      <td>tous les ans</td>\n",
       "      <td>every year</td>\n",
       "    </tr>\n",
       "    <tr>\n",
       "      <th>4</th>\n",
       "      <td>solidaire. Des chanteurs cÃƒÂ©lÃƒÂ¨bres franco...</td>\n",
       "      <td>united. Famous francophone singers in solidari...</td>\n",
       "    </tr>\n",
       "    <tr>\n",
       "      <th>...</th>\n",
       "      <td>...</td>\n",
       "      <td>...</td>\n",
       "    </tr>\n",
       "    <tr>\n",
       "      <th>73</th>\n",
       "      <td>clignote(v).</td>\n",
       "      <td>flashing(nh?p nhÃƒÂ¡y)</td>\n",
       "    </tr>\n",
       "    <tr>\n",
       "      <th>74</th>\n",
       "      <td>le voyant. Quelquefois le voyant rouge clignote</td>\n",
       "      <td>warning light</td>\n",
       "    </tr>\n",
       "    <tr>\n",
       "      <th>75</th>\n",
       "      <td>montage &gt;&lt;dÃƒÂ©montage</td>\n",
       "      <td>assembly&gt;&lt;disassembly</td>\n",
       "    </tr>\n",
       "    <tr>\n",
       "      <th>76</th>\n",
       "      <td>dÃƒÂ©fectueux(adj). Les piÃƒÂ¨ces dÃƒÂ©fectueuses</td>\n",
       "      <td>defective(khi?m khuy?t)</td>\n",
       "    </tr>\n",
       "    <tr>\n",
       "      <th>77</th>\n",
       "      <td>rÃƒÂ©glage(n)</td>\n",
       "      <td>setting, regulation</td>\n",
       "    </tr>\n",
       "  </tbody>\n",
       "</table>\n",
       "<p>78 rows × 2 columns</p>\n",
       "</div>"
      ],
      "text/plain": [
       "                                                front  \\\n",
       "0             vÃƒÂ©ritable. un vÃƒÂ©ritable succÃƒÂ¨s   \n",
       "1                   tournÃƒÂ©e. tournÃƒÂ©es musicales   \n",
       "2   se rÃƒÂ©unir. Des chanteurs cÃƒÂ©lÃƒÂ¨bres fra...   \n",
       "3                                        tous les ans   \n",
       "4   solidaire. Des chanteurs cÃƒÂ©lÃƒÂ¨bres franco...   \n",
       "..                                                ...   \n",
       "73                                       clignote(v).   \n",
       "74    le voyant. Quelquefois le voyant rouge clignote   \n",
       "75                             montage ><dÃƒÂ©montage   \n",
       "76  dÃƒÂ©fectueux(adj). Les piÃƒÂ¨ces dÃƒÂ©fectueuses   \n",
       "77                                      rÃƒÂ©glage(n)   \n",
       "\n",
       "                                                 back  \n",
       "0                                     true, veritable  \n",
       "1                                  tour. musical tour  \n",
       "2   unite, assemble. Famous francophone singers in...  \n",
       "3                                          every year  \n",
       "4   united. Famous francophone singers in solidari...  \n",
       "..                                                ...  \n",
       "73                             flashing(nh?p nhÃƒÂ¡y)  \n",
       "74                                      warning light  \n",
       "75                              assembly><disassembly  \n",
       "76                            defective(khi?m khuy?t)  \n",
       "77                                setting, regulation  \n",
       "\n",
       "[78 rows x 2 columns]"
      ]
     },
     "execution_count": 11,
     "metadata": {},
     "output_type": "execute_result"
    }
   ],
   "source": [
    "df_cards\n"
   ]
  },
  {
   "cell_type": "code",
   "execution_count": null,
   "metadata": {},
   "outputs": [],
   "source": []
  }
 ],
 "metadata": {
  "kernelspec": {
   "display_name": "Python 3",
   "language": "python",
   "name": "python3"
  },
  "language_info": {
   "codemirror_mode": {
    "name": "ipython",
    "version": 3
   },
   "file_extension": ".py",
   "mimetype": "text/x-python",
   "name": "python",
   "nbconvert_exporter": "python",
   "pygments_lexer": "ipython3",
   "version": "3.6.6"
  }
 },
 "nbformat": 4,
 "nbformat_minor": 4
}
