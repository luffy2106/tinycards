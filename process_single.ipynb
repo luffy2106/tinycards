{
 "cells": [
  {
   "cell_type": "code",
   "execution_count": 1,
   "metadata": {},
   "outputs": [],
   "source": [
    "import pandas as pd\n",
    "import re\n",
    "import os \n",
    "import numpy as np"
   ]
  },
  {
   "cell_type": "code",
   "execution_count": 2,
   "metadata": {},
   "outputs": [],
   "source": [
    "file_path = \"French in document email 2.txt\""
   ]
  },
  {
   "cell_type": "code",
   "execution_count": 3,
   "metadata": {},
   "outputs": [],
   "source": [
    "base_name = os.path.basename(file_path)"
   ]
  },
  {
   "cell_type": "code",
   "execution_count": 4,
   "metadata": {},
   "outputs": [],
   "source": [
    "with open(file_path, 'r') as file:\n",
    "    cards = file.read()"
   ]
  },
  {
   "cell_type": "code",
   "execution_count": 5,
   "metadata": {},
   "outputs": [
    {
     "data": {
      "text/plain": [
       "'### Card 1\\nFront\\n* prendre effet. Vos options prendront effet aprÃƒÂ¨s activation de votre espace particulier\\n\\nBack\\n* take effect. Your options will take effect after activation of your particular space\\n\\n### Card 2\\nFront\\n* l\\'impÃƒÂ´t sur les revenues\\n\\nBack\\n* income tax\\n\\n### Card 3\\nFront\\n* coordonnÃƒÂ©es bancaire\\n\\nBack\\n* bank details\\n\\n### Card 4\\nFront\\n* les ÃƒÂ©ventuels. Celui-ci est utile pour les ÃƒÂ©ventuels prÃƒÂ©lÃƒÂ¨vement d\\'acompte\\n\\nBack\\n* any. This is useful for any down payment.\\n\\n### Card 5\\nFront\\n* restitution. l\\'ÃƒÂ©ventuel versement d\\'une restitution\\n\\nBack\\n* refund. The possible payment of a refund\\n\\n### Card 6\\nFront\\n* d\\'une avance de crÃƒÂ©dit\\n\\nBack\\n* credit advance(táº¡m á»©ng tÃƒÂ\\xadn dá»¥ng)\\n\\n### Card 7\\nFront\\n* rÃƒÂ©duction d\\'impÃƒÂ´t\\n\\nBack\\n* tax reduction\\n\\n### Card 8\\nFront\\n* solde. Le paiement d\\'un solde d\\'impot sur les revenus\\n\\nBack\\n* balance. Payment of an income tax balance\\n\\n### Card 9\\nFront\\n* Frais rÃƒÂ©els dÃƒÂ©ductibles\\n\\nBack\\n* What are real deductible costs? By default, the administration applies a \"standard deduction\" of 10% \"on the salaries of civil servants and private sector salaries to determine the amount of net taxable income used to calculate the tax.\\n\\n### Card 10\\nFront\\n* barÃƒÂ¨me. impÃƒÂ´t sur les revenus soumis au barÃƒÂ¨me\\n\\nBack\\n* scale. income tax subject to the scale\\n\\n### Card 11\\nFront\\n* reprises. Reprises ÃƒÂ©ventuelles\\n\\nBack\\n* recovery. Possbile recovery.\\n\\n### Card 12\\nFront\\n* taux personnalisÃƒÂ©. Taux personnalisÃƒÂ© qui sera utilise votre organisme collecteu\\n\\nBack\\n* custome rate. t? l? tÃƒÂ¹y ch?nh s? du?c s? d?ng b?i co quan thu th?p c?a b?n\\n\\n### Card 13\\nFront\\n* employeur\\n\\nBack\\n* employer\\n\\n### Card 14\\nFront\\n* caisse de retraite\\n\\nBack\\n* pension fund(quá»¹ huu trÃƒÂ\\xad)\\n\\n### Card 15\\nFront\\n* enfants mineurs\\n\\nBack\\n* tráº» vá»‹ thÃƒÂ\\xa0nh niÃƒÂªn\\n\\n### Card 16\\nFront\\n* personnes recueillies handicapÃƒÂ©es\\n\\nBack\\n* people with disabilities\\n\\n### Card 17\\nFront\\n* joigner. joignez un copie de justificatif de votre identitÃƒÂ©\\n\\nBack\\n* attach. attach a copy of proof of your identity\\n\\n### Card 18\\nFront\\n* conjoint\\n\\nBack\\n* spouse(vá»£/chá»“ng)\\n\\n### Card 19\\nFront\\n* auquel. nom auquel vos courriers seront adressÃƒÂ©s\\n\\nBack\\n* to which. name to which your mails will be addressed\\n\\n### Card 20\\nFront\\n* escalier\\n\\nBack\\n* staircase\\n\\n### Card 21\\nFront\\n* l\\'audiovisuel public\\n\\nBack\\n* public broadcasting\\n\\n### Card 22\\nFront\\n* foyer fiscal\\n\\nBack\\n* tax household(thuáº¿ nhÃƒÂ\\xa0 Ä‘áº¥t)\\n\\n### Card 23\\nFront\\n* souscriver. Si vous souscrivez une dÃƒÂ©claration d\\'impot\\n\\nBack\\n* subscribe. If you subscribe a tax declaration\\n\\n### Card 24\\nFront\\n* la fortune immobiliÃƒÂ¨re\\n\\nBack\\n* real estate fortune\\n\\n### Card 25\\nFront\\n* pacsÃƒÂ©(status)\\n\\nBack\\n* á»Ÿ chung nhung ko cuoi\\n\\n### Card 26\\nFront\\n* veuf(status)\\n\\nBack\\n* gÃƒÂ³a(vo/chong)\\n\\n### Card 27\\nFront\\n* opter\\n\\nBack\\n* choose\\n\\n### Card 28\\nFront\\n* donner droit.situation pouvant donner droit ÃƒÂ\\xa0 une demi-part supplementaire\\n\\nBack\\n* situation which may give right to an additional half share\\n\\n### Card 29\\nFront\\n* vivre\\n\\nBack\\n* live\\n\\n### Card 30\\nFront\\n* en cas de divorce\\n\\nBack\\n* in case of divorce\\n\\n### Card 31\\nFront\\n* pension pour invaliditÃƒÂ©\\n\\nBack\\n* disability pension(trá»£ cáº¥p tÃƒÂ\\xa0n táº\\xadt)\\n\\n### Card 32\\nFront\\n* titulaire\\n\\nBack\\n* holder\\n\\n### Card 33\\nFront\\n* remplir. Votre conjoint remplit ces conditions.\\n\\nBack\\n* fill. Your spouse fills these conditions.\\n\\n### Card 34\\nFront\\n* dÃƒÂ©cÃƒÂ©der. Il est dÃƒÂ©cÃƒÂ©dÃƒÂ©.\\n\\nBack\\n* dead. He is dead\\n\\n### Card 35\\nFront\\n* carte du combattant\\n\\nBack\\n* card cá»§a nguoi phuc vu trong quÃƒÂ¢n Ä‘á»™i\\n\\n### Card 36\\nFront\\n* victime de guerre\\n\\nBack\\n* war victim\\n\\n### Card 37\\nFront\\n* d\\'enfant non mariÃƒÂ©s chargÃƒÂ©s de famille\\n\\nBack\\n* nguoi con chua lap gia dÃƒÂ¬nh nhung s?ng vÃƒÂ\\xa0 ch?u trÃƒÂ¡ch nhiem voi gia dÃƒÂ¬nh\\n\\n### Card 38\\nFront\\n* recueillir.Les voisins ont recueilli cette famille\\n\\nBack\\n* gather. The neighbors gatered in this family\\n\\n### Card 39\\nFront\\n* ÃƒÂ\\xa0 charge. Enfants ÃƒÂ\\xa0 charge.\\n\\nBack\\n* dependent. Dependent children.\\n\\n### Card 40\\nFront\\n* toit\\n\\nBack\\n* roof\\n\\n### Card 41\\nFront\\n* ne qu\\'ÃƒÂ\\xa0. Vos coordonnÃƒÂ©es bancaires ne seront utilisÃƒÂ©es qu\\'ÃƒÂ\\xa0 partir du 1 Janvier 2019.\\n\\nBack\\n* only. Your bank details will only be used from January 1, 2019.\\n\\n### Card 42\\nFront\\n* dÃƒÂ©cret\\n\\nBack\\n* ngh? d?nh\\n\\n### Card 43\\nFront\\n* le cadre la lutte contre la propagation du virus Covid-19\\n\\nBack\\n* cuoc chien chong lai su lÃƒÂ¢y lan cua virus Covid-19.\\n\\n### Card 44\\nFront\\n* demeurant\\n\\nBack\\n* residing(cu trÃƒÂº)\\n\\n### Card 45\\nFront\\n* liÃƒÂ©(adj)\\n\\nBack\\n* bound(rÃƒÂ\\xa0ng buoc)\\n\\n### Card 46\\nFront\\n* cocher la case\\n\\nBack\\n* check the box\\n\\n### Card 47\\nFront\\n* faire opposition ÃƒÂ\\xa0 ma carte\\n\\nBack\\n* khÃƒÂ³a(dÃƒÂ³ng) tháº» ngÃƒÂ¢n hÃƒÂ\\xa0ng láº¡i(khi bá»‹ giáº\\xadt tÃƒÂºi)\\n\\n### Card 48\\nFront\\n* relevÃƒÂ©(n)\\n\\nBack\\n* statement\\n\\n### Card 49\\nFront\\n* touche(n)\\n\\nBack\\n* fingerboard\\n\\n### Card 50\\nFront\\n* carnet de chÃƒÂ¨ques\\n\\nBack\\n* Cheque book(cua ngÃƒÂ¢n hÃƒÂ\\xa0ng)\\n\\n### Card 51\\nFront\\n* dÃƒÂ©crocher. Un tÃƒÂ©lÃƒÂ©-conseiller dÃƒÂ©croche tout de suite.\\n\\nBack\\n* take the line(phone)\\n\\n### Card 52\\nFront\\n* ReÃ‚Â´pondez a` l\\'enquÃƒÂªte\\n\\nBack\\n* Respond the survey\\n\\n### Card 53\\nFront\\n* vous remplissez la fiche de satisfaction\\n\\nBack\\n* you fill out the satisfaction form\\n\\n### Card 54\\nFront\\n* un renvoi. Le Procureur peut procÃƒÂ©der ÃƒÂ\\xa0 un renvoi devant le Tribunal Correctionnel.\\n\\nBack\\n* a reference\\n\\n### Card 55\\nFront\\n* l\\'inauguration. Nous venons d\\'assister ÃƒÂ\\xa0 l\\'inauguration d\\'exposition de Pierre.\\n\\nBack\\n* lá»… khÃƒÂ¡nh thÃƒÂ\\xa0nh\\n\\n### Card 56\\nFront\\n* la rubrique. Choisissez un ÃƒÂ©lÃƒÂ©ment de chaque rubrique.\\n\\nBack\\n* the section\\n\\n### Card 57\\nFront\\n* en ÃƒÂ©sparant que ce courrier retiendra votre attention\\n\\nBack\\n* hoping that this post will catch your attention(dÃƒÂ¹ng Ä‘á»ƒ viáº¿t vÃƒÂ\\xa0o cuá»‘i thÆ°)\\n\\n### Card 58\\nFront\\n* Je vous prie d\\'agre, Madame, l\\'expression de mes sentiments les meilleurs\\n\\nBack\\n* please accept, Madam, the expression of my best feeling(dÃƒÂ¹ng Ä‘á»ƒ viáº¿t vÃƒÂ\\xa0o cuá»‘i thÆ°)\\n\\n### Card 59\\nFront\\n* sincÃƒÂ¨re salutation = affectueusement\\n\\nBack\\n* best regards(viáº¿t vÃ\\xa0o cuá»‘i thÆ°)\\n\\n### Card 60\\nFront\\n* je vous en prie\\n\\nBack\\n* you are welcome\\n\\n### Card 61\\nFront\\n* amicalement,\\n\\nBack\\n* all the best, (viáº¿t vÃ\\xa0o cuá»‘i thÆ°)'"
      ]
     },
     "execution_count": 5,
     "metadata": {},
     "output_type": "execute_result"
    }
   ],
   "source": [
    "cards"
   ]
  },
  {
   "cell_type": "code",
   "execution_count": 6,
   "metadata": {},
   "outputs": [],
   "source": [
    "cards = cards.split('\\n###')"
   ]
  },
  {
   "cell_type": "code",
   "execution_count": 7,
   "metadata": {},
   "outputs": [],
   "source": [
    "df_cards = pd.DataFrame(cards,columns = ['text'])"
   ]
  },
  {
   "cell_type": "code",
   "execution_count": 8,
   "metadata": {},
   "outputs": [
    {
     "data": {
      "text/html": [
       "<div>\n",
       "<style scoped>\n",
       "    .dataframe tbody tr th:only-of-type {\n",
       "        vertical-align: middle;\n",
       "    }\n",
       "\n",
       "    .dataframe tbody tr th {\n",
       "        vertical-align: top;\n",
       "    }\n",
       "\n",
       "    .dataframe thead th {\n",
       "        text-align: right;\n",
       "    }\n",
       "</style>\n",
       "<table border=\"1\" class=\"dataframe\">\n",
       "  <thead>\n",
       "    <tr style=\"text-align: right;\">\n",
       "      <th></th>\n",
       "      <th>text</th>\n",
       "    </tr>\n",
       "  </thead>\n",
       "  <tbody>\n",
       "    <tr>\n",
       "      <td>0</td>\n",
       "      <td>### Card 1\\nFront\\n* prendre effet. Vos option...</td>\n",
       "    </tr>\n",
       "    <tr>\n",
       "      <td>1</td>\n",
       "      <td>Card 2\\nFront\\n* l'impÃƒÂ´t sur les revenues\\...</td>\n",
       "    </tr>\n",
       "    <tr>\n",
       "      <td>2</td>\n",
       "      <td>Card 3\\nFront\\n* coordonnÃƒÂ©es bancaire\\n\\nB...</td>\n",
       "    </tr>\n",
       "    <tr>\n",
       "      <td>3</td>\n",
       "      <td>Card 4\\nFront\\n* les ÃƒÂ©ventuels. Celui-ci e...</td>\n",
       "    </tr>\n",
       "    <tr>\n",
       "      <td>4</td>\n",
       "      <td>Card 5\\nFront\\n* restitution. l'ÃƒÂ©ventuel v...</td>\n",
       "    </tr>\n",
       "    <tr>\n",
       "      <td>5</td>\n",
       "      <td>Card 6\\nFront\\n* d'une avance de crÃƒÂ©dit\\n\\...</td>\n",
       "    </tr>\n",
       "    <tr>\n",
       "      <td>6</td>\n",
       "      <td>Card 7\\nFront\\n* rÃƒÂ©duction d'impÃƒÂ´t\\n\\nB...</td>\n",
       "    </tr>\n",
       "    <tr>\n",
       "      <td>7</td>\n",
       "      <td>Card 8\\nFront\\n* solde. Le paiement d'un sold...</td>\n",
       "    </tr>\n",
       "    <tr>\n",
       "      <td>8</td>\n",
       "      <td>Card 9\\nFront\\n* Frais rÃƒÂ©els dÃƒÂ©ductible...</td>\n",
       "    </tr>\n",
       "    <tr>\n",
       "      <td>9</td>\n",
       "      <td>Card 10\\nFront\\n* barÃƒÂ¨me. impÃƒÂ´t sur les...</td>\n",
       "    </tr>\n",
       "  </tbody>\n",
       "</table>\n",
       "</div>"
      ],
      "text/plain": [
       "                                                text\n",
       "0  ### Card 1\\nFront\\n* prendre effet. Vos option...\n",
       "1   Card 2\\nFront\\n* l'impÃƒÂ´t sur les revenues\\...\n",
       "2   Card 3\\nFront\\n* coordonnÃƒÂ©es bancaire\\n\\nB...\n",
       "3   Card 4\\nFront\\n* les ÃƒÂ©ventuels. Celui-ci e...\n",
       "4   Card 5\\nFront\\n* restitution. l'ÃƒÂ©ventuel v...\n",
       "5   Card 6\\nFront\\n* d'une avance de crÃƒÂ©dit\\n\\...\n",
       "6   Card 7\\nFront\\n* rÃƒÂ©duction d'impÃƒÂ´t\\n\\nB...\n",
       "7   Card 8\\nFront\\n* solde. Le paiement d'un sold...\n",
       "8   Card 9\\nFront\\n* Frais rÃƒÂ©els dÃƒÂ©ductible...\n",
       "9   Card 10\\nFront\\n* barÃƒÂ¨me. impÃƒÂ´t sur les..."
      ]
     },
     "execution_count": 8,
     "metadata": {},
     "output_type": "execute_result"
    }
   ],
   "source": [
    "df_cards.head(10)"
   ]
  },
  {
   "cell_type": "code",
   "execution_count": 9,
   "metadata": {},
   "outputs": [
    {
     "data": {
      "text/html": [
       "<div>\n",
       "<style scoped>\n",
       "    .dataframe tbody tr th:only-of-type {\n",
       "        vertical-align: middle;\n",
       "    }\n",
       "\n",
       "    .dataframe tbody tr th {\n",
       "        vertical-align: top;\n",
       "    }\n",
       "\n",
       "    .dataframe thead th {\n",
       "        text-align: right;\n",
       "    }\n",
       "</style>\n",
       "<table border=\"1\" class=\"dataframe\">\n",
       "  <thead>\n",
       "    <tr style=\"text-align: right;\">\n",
       "      <th></th>\n",
       "      <th>text</th>\n",
       "    </tr>\n",
       "  </thead>\n",
       "  <tbody>\n",
       "    <tr>\n",
       "      <td>5</td>\n",
       "      <td>Card 6\\nFront\\n* d'une avance de crÃƒÂ©dit\\n\\...</td>\n",
       "    </tr>\n",
       "  </tbody>\n",
       "</table>\n",
       "</div>"
      ],
      "text/plain": [
       "                                                text\n",
       "5   Card 6\\nFront\\n* d'une avance de crÃƒÂ©dit\\n\\..."
      ]
     },
     "execution_count": 9,
     "metadata": {},
     "output_type": "execute_result"
    }
   ],
   "source": [
    "df_cards.iloc[[5]]"
   ]
  },
  {
   "cell_type": "code",
   "execution_count": 10,
   "metadata": {},
   "outputs": [],
   "source": [
    "def front(text):\n",
    "    result = re.search('Front\\n\\* (.*)\\n\\nBack', text)\n",
    "    front_card = result.group(1)\n",
    "    return front_card\n",
    "\n",
    "def back(text):\n",
    "    result = re.search(r'Back\\n\\* (.*)', text)\n",
    "    back_card = result.group(1)\n",
    "    return back_card"
   ]
  },
  {
   "cell_type": "code",
   "execution_count": 11,
   "metadata": {},
   "outputs": [],
   "source": [
    "# cards = row['cards'].split('\\n###')\n",
    "# df_cards = pd.DataFrame(cards,columns = ['text'])\n",
    "df_cards['front'] = df_cards['text'].apply(front)\n",
    "df_cards['back'] = df_cards['text'].apply(back)\n",
    "df_cards = df_cards[['front','back']]"
   ]
  },
  {
   "cell_type": "code",
   "execution_count": 12,
   "metadata": {},
   "outputs": [],
   "source": [
    "path_csv = base_name[:-4] + '.csv'\n",
    "# df_cards.to_csv(path_csv, index = False,encoding = 'utf-8-sig')\n",
    "df_cards.to_csv(path_csv, index = False)"
   ]
  },
  {
   "cell_type": "markdown",
   "metadata": {},
   "source": [
    "df_cards"
   ]
  },
  {
   "cell_type": "markdown",
   "metadata": {},
   "source": [
    "for s in 'àáâãäåæçèéêëìíîï':\n",
    "    i = ' '.join(['0x{:X}'.format(b) for b in s.encode('iso-8859-1')])\n",
    "    u = ' '.join(['0x{:X}'.format(b) for b in s.encode('utf-8')])\n",
    "    print('%s | `%s` | `%s`' % (s, i, u))"
   ]
  },
  {
   "cell_type": "markdown",
   "metadata": {},
   "source": [
    "def encode(char, code):\n",
    "    return char.encode(code)"
   ]
  },
  {
   "cell_type": "markdown",
   "metadata": {},
   "source": [
    "encode('à','iso-8859-1')\n"
   ]
  },
  {
   "cell_type": "markdown",
   "metadata": {},
   "source": [
    "df_encode = pd.DataFrame(data = {'char': ['à','á','â','ã','ä','å','æ','ç','è','é','ê','ë','ì','í','î','ï']})"
   ]
  },
  {
   "cell_type": "markdown",
   "metadata": {},
   "source": [
    "df_encode['iso-8859-1'] = df_encode['char'].apply(encode, code='iso-8859-1')\n",
    "df_encode['iso-8859-15'] = df_encode['char'].apply(encode, code='iso-8859-15')\n",
    "df_encode['utf-8'] = df_encode['char'].apply(encode, code='utf-8')\n",
    "df_encode['cp1252'] = df_encode['char'].apply(encode, code='cp1252')"
   ]
  },
  {
   "cell_type": "markdown",
   "metadata": {},
   "source": [
    "df_encode"
   ]
  },
  {
   "cell_type": "markdown",
   "metadata": {},
   "source": [
    "df_text = pd.DataFrame(data = {'text': ['ÃƒÂ©']})"
   ]
  },
  {
   "cell_type": "markdown",
   "metadata": {},
   "source": [
    "df_text['cp1252'] = df_text['text'].apply(encode, code='cp1252')"
   ]
  },
  {
   "cell_type": "markdown",
   "metadata": {},
   "source": [
    "df_text"
   ]
  },
  {
   "cell_type": "markdown",
   "metadata": {},
   "source": [
    "check list of encode in this link : https://docs.python.org/2.4/lib/standard-encodings.html"
   ]
  },
  {
   "cell_type": "markdown",
   "metadata": {},
   "source": [
    "# df_text['iso-8859-1'] = df_text['text'].apply(encode, code='iso-8859-1')\n",
    "# df_text['iso-8859-15'] = df_text['text'].apply(encode, code='iso-8859-15')\n",
    "# df_text['utf-8'] = df_text['text'].apply(encode, code='utf-8')\n",
    "# df_text['cp1252'] = df_text['text'].apply(encode, code='cp1252')"
   ]
  },
  {
   "cell_type": "markdown",
   "metadata": {},
   "source": [
    "df_text['utf-8'] = df_text['text'].apply(encode, code='utf-8')"
   ]
  },
  {
   "cell_type": "markdown",
   "metadata": {},
   "source": [
    "b'\\xc3\\x83\\xc2\\xa9'.decode('cp1252')"
   ]
  },
  {
   "cell_type": "markdown",
   "metadata": {},
   "source": [
    "df_text"
   ]
  },
  {
   "cell_type": "markdown",
   "metadata": {},
   "source": [
    "def find_original(text, list_code):\n",
    "    dict_value = {}\n",
    "    for encode in list_code:\n",
    "        dict_value[encode] = {}\n",
    "        try:\n",
    "            text_encode = text.encode(encode)\n",
    "        except:\n",
    "            dict_value[encode] = 'error encode'\n",
    "            continue\n",
    "        list_code_minus = list(set(listcode) - set(encode))\n",
    "        for decode in list_code_minus:\n",
    "#             text_decode = ''\n",
    "            try:\n",
    "                text_decode = text_encode.decode(decode)\n",
    "            except:\n",
    "                dict_value[encode][decode] = \"error decode\"\n",
    "                continue\n",
    "            dict_value[encode][decode] = text_decode\n",
    "    return dict_value"
   ]
  },
  {
   "cell_type": "markdown",
   "metadata": {},
   "source": [
    "listcode = ['ascii',\n",
    " 'big5',\n",
    " 'big5hkscs',\n",
    " 'cp037',\n",
    " 'cp273',\n",
    " 'cp424',\n",
    " 'cp437',\n",
    " 'cp500',\n",
    " 'cp720',\n",
    " 'cp737',\n",
    " 'cp775',\n",
    " 'cp850',\n",
    " 'cp852',\n",
    " 'cp855',\n",
    " 'cp856',\n",
    " 'cp857',\n",
    " 'cp858',\n",
    " 'cp860',\n",
    " 'cp861',\n",
    " 'cp862',\n",
    " 'cp863',\n",
    " 'cp864',\n",
    " 'cp865',\n",
    " 'cp866',\n",
    " 'cp869',\n",
    " 'cp874',\n",
    " 'cp875',\n",
    " 'cp932',\n",
    " 'cp949',\n",
    " 'cp950',\n",
    " 'cp1006',\n",
    " 'cp1026',\n",
    " 'cp1125',\n",
    " 'cp1140',\n",
    " 'cp1250',\n",
    " 'cp1251',\n",
    " 'cp1252',\n",
    " 'cp1253',\n",
    " 'cp1254',\n",
    " 'cp1255',\n",
    " 'cp1256',\n",
    " 'cp1257',\n",
    " 'cp1258',\n",
    " 'cp65001',\n",
    " 'euc_jp',\n",
    " 'euc_jis_2004',\n",
    " 'euc_jisx0213',\n",
    " 'euc_kr',\n",
    " 'gb2312',\n",
    " 'gbk',\n",
    " 'gb18030',\n",
    " 'hz',\n",
    " 'iso2022_jp',\n",
    " 'iso2022_jp_1',\n",
    " 'iso2022_jp_2',\n",
    " 'iso2022_jp_2004',\n",
    " 'iso2022_jp_3',\n",
    " 'iso2022_jp_ext',\n",
    " 'iso2022_kr',\n",
    " 'latin_1',\n",
    " 'iso8859_2',\n",
    " 'iso8859_3',\n",
    " 'iso8859_4',\n",
    " 'iso8859_5',\n",
    " 'iso8859_6',\n",
    " 'iso8859_7',\n",
    " 'iso8859_8',\n",
    " 'iso8859_9',\n",
    " 'iso8859_10',\n",
    " 'iso8859_11',\n",
    " 'iso8859_13',\n",
    " 'iso8859_14',\n",
    " 'iso8859_15',\n",
    " 'iso8859_16',\n",
    " 'johab',\n",
    " 'koi8_r',\n",
    " 'koi8_t',\n",
    " 'koi8_u',\n",
    " 'kz1048',\n",
    " 'mac_cyrillic',\n",
    " 'mac_greek',\n",
    " 'mac_iceland',\n",
    " 'mac_latin2',\n",
    " 'mac_roman',\n",
    " 'mac_turkish',\n",
    " 'ptcp154',\n",
    " 'shift_jis',\n",
    " 'shift_jis_2004',\n",
    " 'shift_jisx0213',\n",
    " 'utf_32',\n",
    " 'utf_32_be',\n",
    " 'utf_32_le',\n",
    " 'utf_16',\n",
    " 'utf_16_be',\n",
    " 'utf_16_le',\n",
    " 'utf_7',\n",
    " 'utf_8',\n",
    " 'utf_8_sig']"
   ]
  },
  {
   "cell_type": "markdown",
   "metadata": {},
   "source": [
    "find_original('ÃƒÂ©', listcode)"
   ]
  },
  {
   "cell_type": "markdown",
   "metadata": {},
   "source": [
    "'ÃƒÂ©'.encode('cp850').decode('iso8859_7')"
   ]
  },
  {
   "cell_type": "markdown",
   "metadata": {},
   "source": [
    "df_cards"
   ]
  },
  {
   "cell_type": "markdown",
   "metadata": {},
   "source": [
    "# Load processed df_cards"
   ]
  },
  {
   "cell_type": "code",
   "execution_count": 13,
   "metadata": {},
   "outputs": [
    {
     "data": {
      "text/html": [
       "<div>\n",
       "<style scoped>\n",
       "    .dataframe tbody tr th:only-of-type {\n",
       "        vertical-align: middle;\n",
       "    }\n",
       "\n",
       "    .dataframe tbody tr th {\n",
       "        vertical-align: top;\n",
       "    }\n",
       "\n",
       "    .dataframe thead th {\n",
       "        text-align: right;\n",
       "    }\n",
       "</style>\n",
       "<table border=\"1\" class=\"dataframe\">\n",
       "  <thead>\n",
       "    <tr style=\"text-align: right;\">\n",
       "      <th></th>\n",
       "      <th>front</th>\n",
       "      <th>back</th>\n",
       "    </tr>\n",
       "  </thead>\n",
       "  <tbody>\n",
       "    <tr>\n",
       "      <td>0</td>\n",
       "      <td>prendre effet. Vos options prendront effet apr...</td>\n",
       "      <td>take effect. Your options will take effect aft...</td>\n",
       "    </tr>\n",
       "    <tr>\n",
       "      <td>1</td>\n",
       "      <td>l'impÃƒÂ´t sur les revenues</td>\n",
       "      <td>income tax</td>\n",
       "    </tr>\n",
       "    <tr>\n",
       "      <td>2</td>\n",
       "      <td>coordonnÃƒÂ©es bancaire</td>\n",
       "      <td>bank details</td>\n",
       "    </tr>\n",
       "    <tr>\n",
       "      <td>3</td>\n",
       "      <td>les ÃƒÂ©ventuels. Celui-ci est utile pour les ...</td>\n",
       "      <td>any. This is useful for any down payment.</td>\n",
       "    </tr>\n",
       "    <tr>\n",
       "      <td>4</td>\n",
       "      <td>restitution. l'ÃƒÂ©ventuel versement d'une res...</td>\n",
       "      <td>refund. The possible payment of a refund</td>\n",
       "    </tr>\n",
       "    <tr>\n",
       "      <td>5</td>\n",
       "      <td>d'une avance de crÃƒÂ©dit</td>\n",
       "      <td>credit advance(táº¡m á»©ng tÃƒÂ­n dá»¥ng)</td>\n",
       "    </tr>\n",
       "    <tr>\n",
       "      <td>6</td>\n",
       "      <td>rÃƒÂ©duction d'impÃƒÂ´t</td>\n",
       "      <td>tax reduction</td>\n",
       "    </tr>\n",
       "    <tr>\n",
       "      <td>7</td>\n",
       "      <td>solde. Le paiement d'un solde d'impot sur les ...</td>\n",
       "      <td>balance. Payment of an income tax balance</td>\n",
       "    </tr>\n",
       "    <tr>\n",
       "      <td>8</td>\n",
       "      <td>Frais rÃƒÂ©els dÃƒÂ©ductibles</td>\n",
       "      <td>What are real deductible costs? By default, th...</td>\n",
       "    </tr>\n",
       "    <tr>\n",
       "      <td>9</td>\n",
       "      <td>barÃƒÂ¨me. impÃƒÂ´t sur les revenus soumis au ...</td>\n",
       "      <td>scale. income tax subject to the scale</td>\n",
       "    </tr>\n",
       "  </tbody>\n",
       "</table>\n",
       "</div>"
      ],
      "text/plain": [
       "                                               front  \\\n",
       "0  prendre effet. Vos options prendront effet apr...   \n",
       "1                        l'impÃƒÂ´t sur les revenues   \n",
       "2                            coordonnÃƒÂ©es bancaire   \n",
       "3  les ÃƒÂ©ventuels. Celui-ci est utile pour les ...   \n",
       "4  restitution. l'ÃƒÂ©ventuel versement d'une res...   \n",
       "5                          d'une avance de crÃƒÂ©dit   \n",
       "6                            rÃƒÂ©duction d'impÃƒÂ´t   \n",
       "7  solde. Le paiement d'un solde d'impot sur les ...   \n",
       "8                      Frais rÃƒÂ©els dÃƒÂ©ductibles   \n",
       "9  barÃƒÂ¨me. impÃƒÂ´t sur les revenus soumis au ...   \n",
       "\n",
       "                                                back  \n",
       "0  take effect. Your options will take effect aft...  \n",
       "1                                         income tax  \n",
       "2                                       bank details  \n",
       "3          any. This is useful for any down payment.  \n",
       "4           refund. The possible payment of a refund  \n",
       "5          credit advance(táº¡m á»©ng tÃƒÂ­n dá»¥ng)  \n",
       "6                                      tax reduction  \n",
       "7          balance. Payment of an income tax balance  \n",
       "8  What are real deductible costs? By default, th...  \n",
       "9             scale. income tax subject to the scale  "
      ]
     },
     "execution_count": 13,
     "metadata": {},
     "output_type": "execute_result"
    }
   ],
   "source": [
    "df_cards.head(10)"
   ]
  },
  {
   "cell_type": "code",
   "execution_count": 14,
   "metadata": {},
   "outputs": [],
   "source": [
    "def clean_text(text):\n",
    "    text = re.sub('ÃƒÂªÃ‚Â´','ế',text)\n",
    "    text = re.sub('ÃƒÂ©','é',text)  \n",
    "    text = re.sub('ÃƒÂ¢','â',text)\n",
    "    text = re.sub('ÃƒÂ£','ã',text)\n",
    "    text = re.sub('ÃƒÂ ','à',text)\n",
    "    text = re.sub('ÃƒÂº','ú',text)\n",
    "    text = re.sub('ÃƒÂ½','ý',text)\n",
    "    text = re.sub('dÃ¬nh','đình',text)\n",
    "    text = re.sub('','',text)\n",
    "    text = re.sub('','',text)\n",
    "    text = re.sub('','',text)\n",
    "    text = re.sub('ÃƒÂ¹','ù',text)\n",
    "    text = re.sub('ÃƒÂ¡','á',text)\n",
    "    text = re.sub('dÃƒÂ¬nh','đình',text)\n",
    "    text = re.sub('ÃƒÂ­','í',text)\n",
    "    text = re.sub('aÃ‚Â´','ắ',text)\n",
    "    text = re.sub('ÃƒÅ ','Ê',text)\n",
    "    text = re.sub('ÃƒÂ³','ó',text)\n",
    "    text = re.sub('ÃƒÂ´','ô',text)\n",
    "    text = re.sub('dÃƒÂ o','à',text)\n",
    "    text = re.sub('eÃ‚Â´','é',text)\n",
    "    text = re.sub('ÃƒÂ§', 'ç', text)\n",
    "    text = re.sub('ÃƒÂ´', 'ô', text)\n",
    "    text = re.sub('Ãƒâ‚¬','À',text)\n",
    "    text = re.sub('ÃƒÂª','ê',text)\n",
    "    text = re.sub('Ã‚Â´','é',text)\n",
    "    text = re.sub('ÃƒÂ®','î',text)\n",
    "    text = re.sub('ÃƒÂ»','û',text)\n",
    "    text = re.sub('ÃƒÂ¨','è',text)\n",
    "    text = re.sub('ÃƒÂ','à',text)\n",
    "    text = re.sub('Ã¨','è',text)\n",
    "    text = re.sub('Ã´','ô',text)\n",
    "    text = re.sub('Ã©','é',text)\n",
    "    text = re.sub('Ãª','ê',text)\n",
    "    text = re.sub('eÂ´','é',text)\n",
    "    text = re.sub('Ã¹','ù',text)\n",
    "    text = re.sub('Ã³','ó',text)\n",
    "    text = re.sub('Ã¢','â',text)\n",
    "    text = re.sub('Ã¡','á',text)\n",
    "    text = re.sub('Ãº','ú',text)\n",
    "    text = re.sub('Ã ','à',text)\n",
    "    text = re.sub('Ã','í',text)\n",
    "#     text = re.sub('a?','a',text)\n",
    "#     text = re.sub('e?','e',text)\n",
    "    return text  "
   ]
  },
  {
   "cell_type": "code",
   "execution_count": 15,
   "metadata": {},
   "outputs": [],
   "source": [
    "df_cards['clean_front'] = df_cards['front'].apply(clean_text)\n",
    "df_cards['clean_back'] = df_cards['back'].apply(clean_text)"
   ]
  },
  {
   "cell_type": "code",
   "execution_count": 16,
   "metadata": {},
   "outputs": [
    {
     "data": {
      "text/plain": [
       "0     prendre effet. Vos options prendront effet apr...\n",
       "1                              l'impôt sur les revenues\n",
       "2                                  coordonnées bancaire\n",
       "3     les éventuels. Celui-ci est utile pour les éve...\n",
       "4     restitution. l'éventuel versement d'une restit...\n",
       "                            ...                        \n",
       "56    en ésparant que ce courrier retiendra votre at...\n",
       "57    Je vous prie d'agre, Madame, l'expression de m...\n",
       "58                 sincère salutation = affectueusement\n",
       "59                                      je vous en prie\n",
       "60                                         amicalement,\n",
       "Name: clean_front, Length: 61, dtype: object"
      ]
     },
     "execution_count": 16,
     "metadata": {},
     "output_type": "execute_result"
    }
   ],
   "source": [
    "df_cards['clean_front']"
   ]
  },
  {
   "cell_type": "code",
   "execution_count": 17,
   "metadata": {},
   "outputs": [],
   "source": [
    "df_cards_clean = df_cards[['clean_front','clean_back']]"
   ]
  },
  {
   "cell_type": "code",
   "execution_count": 18,
   "metadata": {},
   "outputs": [
    {
     "data": {
      "text/html": [
       "<div>\n",
       "<style scoped>\n",
       "    .dataframe tbody tr th:only-of-type {\n",
       "        vertical-align: middle;\n",
       "    }\n",
       "\n",
       "    .dataframe tbody tr th {\n",
       "        vertical-align: top;\n",
       "    }\n",
       "\n",
       "    .dataframe thead th {\n",
       "        text-align: right;\n",
       "    }\n",
       "</style>\n",
       "<table border=\"1\" class=\"dataframe\">\n",
       "  <thead>\n",
       "    <tr style=\"text-align: right;\">\n",
       "      <th></th>\n",
       "      <th>clean_front</th>\n",
       "      <th>clean_back</th>\n",
       "    </tr>\n",
       "  </thead>\n",
       "  <tbody>\n",
       "    <tr>\n",
       "      <td>0</td>\n",
       "      <td>prendre effet. Vos options prendront effet apr...</td>\n",
       "      <td>take effect. Your options will take effect aft...</td>\n",
       "    </tr>\n",
       "    <tr>\n",
       "      <td>1</td>\n",
       "      <td>l'impôt sur les revenues</td>\n",
       "      <td>income tax</td>\n",
       "    </tr>\n",
       "    <tr>\n",
       "      <td>2</td>\n",
       "      <td>coordonnées bancaire</td>\n",
       "      <td>bank details</td>\n",
       "    </tr>\n",
       "    <tr>\n",
       "      <td>3</td>\n",
       "      <td>les éventuels. Celui-ci est utile pour les éve...</td>\n",
       "      <td>any. This is useful for any down payment.</td>\n",
       "    </tr>\n",
       "    <tr>\n",
       "      <td>4</td>\n",
       "      <td>restitution. l'éventuel versement d'une restit...</td>\n",
       "      <td>refund. The possible payment of a refund</td>\n",
       "    </tr>\n",
       "    <tr>\n",
       "      <td>...</td>\n",
       "      <td>...</td>\n",
       "      <td>...</td>\n",
       "    </tr>\n",
       "    <tr>\n",
       "      <td>56</td>\n",
       "      <td>en ésparant que ce courrier retiendra votre at...</td>\n",
       "      <td>hoping that this post will catch your attentio...</td>\n",
       "    </tr>\n",
       "    <tr>\n",
       "      <td>57</td>\n",
       "      <td>Je vous prie d'agre, Madame, l'expression de m...</td>\n",
       "      <td>please accept, Madam, the expression of my bes...</td>\n",
       "    </tr>\n",
       "    <tr>\n",
       "      <td>58</td>\n",
       "      <td>sincère salutation = affectueusement</td>\n",
       "      <td>best regards(viáº¿t vào cuá»‘i thÆ°)</td>\n",
       "    </tr>\n",
       "    <tr>\n",
       "      <td>59</td>\n",
       "      <td>je vous en prie</td>\n",
       "      <td>you are welcome</td>\n",
       "    </tr>\n",
       "    <tr>\n",
       "      <td>60</td>\n",
       "      <td>amicalement,</td>\n",
       "      <td>all the best, (viáº¿t vào cuá»‘i thÆ°)</td>\n",
       "    </tr>\n",
       "  </tbody>\n",
       "</table>\n",
       "<p>61 rows × 2 columns</p>\n",
       "</div>"
      ],
      "text/plain": [
       "                                          clean_front  \\\n",
       "0   prendre effet. Vos options prendront effet apr...   \n",
       "1                            l'impôt sur les revenues   \n",
       "2                                coordonnées bancaire   \n",
       "3   les éventuels. Celui-ci est utile pour les éve...   \n",
       "4   restitution. l'éventuel versement d'une restit...   \n",
       "..                                                ...   \n",
       "56  en ésparant que ce courrier retiendra votre at...   \n",
       "57  Je vous prie d'agre, Madame, l'expression de m...   \n",
       "58               sincère salutation = affectueusement   \n",
       "59                                    je vous en prie   \n",
       "60                                       amicalement,   \n",
       "\n",
       "                                           clean_back  \n",
       "0   take effect. Your options will take effect aft...  \n",
       "1                                          income tax  \n",
       "2                                        bank details  \n",
       "3           any. This is useful for any down payment.  \n",
       "4            refund. The possible payment of a refund  \n",
       "..                                                ...  \n",
       "56  hoping that this post will catch your attentio...  \n",
       "57  please accept, Madam, the expression of my bes...  \n",
       "58               best regards(viáº¿t vào cuá»‘i thÆ°)  \n",
       "59                                    you are welcome  \n",
       "60             all the best, (viáº¿t vào cuá»‘i thÆ°)  \n",
       "\n",
       "[61 rows x 2 columns]"
      ]
     },
     "execution_count": 18,
     "metadata": {},
     "output_type": "execute_result"
    }
   ],
   "source": [
    "df_cards_clean"
   ]
  },
  {
   "cell_type": "code",
   "execution_count": 19,
   "metadata": {},
   "outputs": [],
   "source": [
    "path_csv_clean = file_path[:-4] + \"_clean.csv\" \n",
    "df_cards_clean.to_csv(path_csv_clean, index = False, encoding = 'utf-8-sig')"
   ]
  },
  {
   "cell_type": "code",
   "execution_count": 20,
   "metadata": {},
   "outputs": [
    {
     "data": {
      "text/html": [
       "<div>\n",
       "<style scoped>\n",
       "    .dataframe tbody tr th:only-of-type {\n",
       "        vertical-align: middle;\n",
       "    }\n",
       "\n",
       "    .dataframe tbody tr th {\n",
       "        vertical-align: top;\n",
       "    }\n",
       "\n",
       "    .dataframe thead th {\n",
       "        text-align: right;\n",
       "    }\n",
       "</style>\n",
       "<table border=\"1\" class=\"dataframe\">\n",
       "  <thead>\n",
       "    <tr style=\"text-align: right;\">\n",
       "      <th></th>\n",
       "      <th>clean_front</th>\n",
       "      <th>clean_back</th>\n",
       "    </tr>\n",
       "  </thead>\n",
       "  <tbody>\n",
       "    <tr>\n",
       "      <td>33</td>\n",
       "      <td>décéder. Il est décédé.</td>\n",
       "      <td>dead. He is dead</td>\n",
       "    </tr>\n",
       "  </tbody>\n",
       "</table>\n",
       "</div>"
      ],
      "text/plain": [
       "                clean_front        clean_back\n",
       "33  décéder. Il est décédé.  dead. He is dead"
      ]
     },
     "execution_count": 20,
     "metadata": {},
     "output_type": "execute_result"
    }
   ],
   "source": [
    "df_cards_clean.iloc[[33]]"
   ]
  },
  {
   "cell_type": "code",
   "execution_count": null,
   "metadata": {},
   "outputs": [],
   "source": []
  }
 ],
 "metadata": {
  "kernelspec": {
   "display_name": "Python 3",
   "language": "python",
   "name": "python3"
  },
  "language_info": {
   "codemirror_mode": {
    "name": "ipython",
    "version": 3
   },
   "file_extension": ".py",
   "mimetype": "text/x-python",
   "name": "python",
   "nbconvert_exporter": "python",
   "pygments_lexer": "ipython3",
   "version": "3.6.6"
  }
 },
 "nbformat": 4,
 "nbformat_minor": 4
}
