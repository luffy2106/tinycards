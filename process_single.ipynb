{
 "cells": [
  {
   "cell_type": "code",
   "execution_count": 1,
   "metadata": {},
   "outputs": [],
   "source": [
    "import pandas as pd\n",
    "import re\n",
    "import os \n",
    "import numpy as np"
   ]
  },
  {
   "cell_type": "code",
   "execution_count": 2,
   "metadata": {},
   "outputs": [],
   "source": [
    "file_path = \"cac_cau_hoi_trong_giao_tiep.txt\""
   ]
  },
  {
   "cell_type": "code",
   "execution_count": 3,
   "metadata": {},
   "outputs": [],
   "source": [
    "base_name = os.path.basename(file_path)"
   ]
  },
  {
   "cell_type": "code",
   "execution_count": 4,
   "metadata": {},
   "outputs": [],
   "source": [
    "with open(file_path, 'r') as file:\n",
    "    cards = file.read()"
   ]
  },
  {
   "cell_type": "code",
   "execution_count": 5,
   "metadata": {},
   "outputs": [
    {
     "data": {
      "text/plain": [
       "\"### Card 1\\nFront\\n* qu'est-ce qui vous est arrivÃƒÂ© ? = qu'est-ce qui s'est passÃƒÂ© ? = comment vous avez fait ÃƒÂ§a ?\\n\\nBack\\n* What has happened to you ?\\n\\n### Card 2\\nFront\\n* comment vous avez fait ÃƒÂ§a ?\\n\\nBack\\n* how did you do that?\\n\\n### Card 3\\nFront\\n* qu'est-ce que c'est ?\\n\\nBack\\n* What is this?\\n\\n### Card 4\\nFront\\n* Ãƒâ‚¬ quelle station est-ce que je dois descendre ?\\n\\nBack\\n* Which station do I have to get off ?(dÃƒÂ¹ng trong vi?c h?i du?ng)\\n\\n### Card 5\\nFront\\n* C'est direct ?\\n\\nBack\\n* it's direct ?'(dÃƒÂ¹ng tron h?i du?ng)\\n\\n### Card 6\\nFront\\n* qu'est ce que je dois faire ?\\n\\nBack\\n* what I have to do ?\\n\\n### Card 7\\nFront\\n* Je peux vous aider / renseigner ?\\n\\nBack\\n* Can I help you ?\\n\\n### Card 8\\nFront\\n* vous faites quelle taille?\\n\\nBack\\n* How tall are you?\\n\\n### Card 9\\nFront\\n* Quelle est votre taille ?\\n\\nBack\\n* what is your size?\\n\\n### Card 10\\nFront\\n* Quelle est votre pointure? = Vous chaussez du combien? Je fais du 40/Je chausse du 40\\n\\nBack\\n* What's your shoe size?\\n\\n### Card 11\\nFront\\n* ce sera tout ?\\n\\nBack\\n* that's all ?\\n\\n### Card 12\\nFront\\n* Pouvez-vous me conseiller/m'aider?\\n\\nBack\\n* Can you advice / help me ?\\n\\n### Card 13\\nFront\\n* Je peux essayer ?(pour un vÃƒÂªtement/des chaussures)\\n\\nBack\\n* I can try ?\\n\\n### Card 14\\nFront\\n* lequel/laquelle/lesquel(le)s vous voulez/deÃ‚Â´sirez/souhaitez ?\\n\\nBack\\n* which one do you want?\\n\\n### Card 15\\nFront\\n* Et avec ici ?\\n\\nBack\\n* and with there ?\\n\\n### Card 16\\nFront\\n* vous voulez / desirez autre chose ? => Non,ce sera tout\\n\\nBack\\n* you want something else ? => No,that's all\\n\\n### Card 17\\nFront\\n* je voudrais celui-ci / celle la`\\n\\nBack\\n* I would like this one\\n\\n### Card 18\\nFront\\n* Je vais prendre\\n\\nBack\\n* I will take it\\n\\n### Card 19\\nFront\\n* Je vais rÃƒÂ©flÃƒÂ©chir\\n\\nBack\\n* I will think about it\\n\\n### Card 20\\nFront\\n* donnes moi tes nouvelles!\\n\\nBack\\n* give me your news!\\n\\n### Card 21\\nFront\\n* sa va ÃƒÂªtre choutee !\\n\\nBack\\n* It's going to be fun !\\n\\n### Card 22\\nFront\\n* je dois te laisser\\n\\nBack\\n* I have to leave you = I have to go\\n\\n### Card 23\\nFront\\n* amuse-toi bien lÃƒÂ\\xa0-bas!\\n\\nBack\\n* Have fun there!\\n\\n### Card 24\\nFront\\n* profiter bien de tes vacances!\\n\\nBack\\n* enjoy your holidays!\\n\\n### Card 25\\nFront\\n* tu as de la chance!\\n\\nBack\\n* you are lucky!\\n\\n### Card 26\\nFront\\n* comment s'appelle la soeur de Michel ?\\n\\nBack\\n* what is Michel's sister's name?\\n\\n### Card 27\\nFront\\n* Quel est (le but) de votre voyage?\\n\\nBack\\n* What is (the purpose) of your trip?\\n\\n### Card 28\\nFront\\n* nous vous (recommandons) de passer par cette rue\\n\\nBack\\n* we (recommend) you go through this street\\n\\n### Card 29\\nFront\\n* a` tout de suit\\n\\nBack\\n* see you soon\\n\\n### Card 30\\nFront\\n* ce n'est pas grave\\n\\nBack\\n* it does not matter\\n\\n### Card 31\\nFront\\n* l'addition s'il vous plaÃƒÂ®t\\n\\nBack\\n* Bill, please\\n\\n### Card 32\\nFront\\n* c'est pour offrir\\n\\nBack\\n* It's to offer\\n\\n### Card 33\\nFront\\n* C'est pour (faire une promenade)\\n\\nBack\\n* It's for a walk\\n\\n### Card 34\\nFront\\n* je peux goÃƒÂ»ter ?\\n\\nBack\\n* I can taste ?\\n\\n### Card 35\\nFront\\n* bonne promenade !\\n\\nBack\\n* good walk !(chuÃ‚Â´c 1 chuyÃƒÂªÃ‚Â´n di da?o vui ve?)\\n\\n### Card 36\\nFront\\n* dites moi\\n\\nBack\\n* tell me\\n\\n### Card 37\\nFront\\n* pas tout de suite\\n\\nBack\\n* not immediately\\n\\n### Card 38\\nFront\\n* il n'y a pas de problÃƒÂ¨me\\n\\nBack\\n* there is no problem\\n\\n### Card 39\\nFront\\n* lesquels vous voulez ?\\n\\nBack\\n* which ones do you want?\\n\\n### Card 40\\nFront\\n* quel est l'eÃ‚Â´nonceÃ‚Â´ correct ?\\n\\nBack\\n* what is the correct statement?\\n\\n### Card 41\\nFront\\n* est ce que vous avez des antivols ? Oui, en voila` deux\\n\\nBack\\n* Do you have locks? Yes, here are two\\n\\n### Card 42\\nFront\\n* est ce que je peux vous poser quelques questions ?\\n\\nBack\\n* can I ask you some questions?\\n\\n### Card 43\\nFront\\n* je vous en prie\\n\\nBack\\n* you are welcome\\n\\n### Card 44\\nFront\\n* sa me convient\\n\\nBack\\n* it suits me(NoÃ‚Â´ ho?p lyÃ‚Â´ voÃ‚Â´i tÃƒÂ´i)\\n\\n### Card 45\\nFront\\n* oui, en effet\\n\\nBack\\n* yes, indeed\\n\\n### Card 46\\nFront\\n* saluer\\n\\nBack\\n* say hi\\n\\n### Card 47\\nFront\\n* aidez-moi svp?\\n\\nBack\\n* please help me\\n\\n### Card 48\\nFront\\n* regaler .je vais me rÃƒÂ©galer !\\n\\nBack\\n* thi?t dÃƒÂ£i.TÃƒÂ´i s? t?n hu?ng nÃƒÂ³!\\n\\n### Card 49\\nFront\\n* peut ÃƒÂªtre.\\n\\nBack\\n* may be.\\n\\n### Card 50\\nFront\\n* C'est inacceptable = C'est exaspÃƒÂ©rant = C'est dÃƒÂ©sagrÃƒÂ©able\\n\\nBack\\n* It's inacceptable.\\n\\n### Card 51\\nFront\\n* Alors je fais trÃƒÂ¨s attention\\n\\nBack\\n* So I'm very careful.\\n\\n### Card 52\\nFront\\n* ce sera tout.\\n\\nBack\\n* That's all.\\n\\n### Card 53\\nFront\\n* sept jours sur sept. La machine livre une pizza toute chaude, sept jours sur sept\\n\\nBack\\n* (ph?c v?)su?t 7 nga? trong tu?n\\n\\n### Card 54\\nFront\\n* ÃƒÂ\\xa0 quoi ÃƒÂ§a sert? = ÃƒÂ§a sert ÃƒÂ\\xa0 quoi?\\n\\nBack\\n* What is it used for?\\n\\n### Card 55\\nFront\\n* Ce' n'est pas juste !\\n\\nBack\\n* It's not fair !\\n\\n### Card 56\\nFront\\n* Je n'ai pas fait ÃƒÂ§a !\\n\\nBack\\n* I didn't do it !\\n\\n### Card 57\\nFront\\n* je n'ai rien fait !\\n\\nBack\\n* I did not do anything !\\n\\n### Card 58\\nFront\\n* Mais non ! Absolument pas ! Non, pas du tout !\\n\\nBack\\n* But no ! Absolutely not ! Not at all !\\n\\n### Card 59\\nFront\\n* ce n'est pas moi !\\n\\nBack\\n* It's not me !\\n\\n### Card 60\\nFront\\n* ce n'est pas vrai !\\n\\nBack\\n* it's not true !\\n\\n### Card 61\\nFront\\n* j'espÃƒÂ¨re que tu vas bien\\n\\nBack\\n* I hope you're okay\\n\\n### Card 62\\nFront\\n* je vous en prie\\n\\nBack\\n* you are welcome\\n\\n### Card 63\\nFront\\n* je n'ai pas de sous\\n\\nBack\\n* I have no money\\n\\n### Card 64\\nFront\\n* je n'y tient pas\\n\\nBack\\n* I don't care\\n\\n### Card 65\\nFront\\n* alors lÃƒÂ\\xa0-dessus ...\\n\\nBack\\n* an so on ..\\n\\n### Card 66\\nFront\\n* toujours est-il que. toujours est-il que celui du dessous l'a su !\\n\\nBack\\n* the fact is that. the fact is that the one below knew it!\\n\\n### Card 67\\nFront\\n* soi-disant. soi-disant parce au'il avait trop chaud en dessous\\n\\nBack\\n* supposedly.supposedly because it was too hot underneath\\n\\n### Card 68\\nFront\\n* bref. bref ! celui du dessous leur est tombÃƒÂ© dessus\\n\\nBack\\n* In short. In short ! the one below fall into the one above.\\n\\n### Card 69\\nFront\\n* c'est celui du dessous qui a eu le dessus\\n\\nBack\\n* it's the one below that got the upper (ngu?i ? du?i chi?m uu th? hon)\\n\\n### Card 70\\nFront\\n* ÃƒÂ§a me dÃƒÂ©range\\n\\nBack\\n* It's disturb me/that bothers me\\n\\n### Card 71\\nFront\\n* ÃƒÂ§a m'ennuie\\n\\nBack\\n* it makes me boring\\n\\n### Card 72\\nFront\\n* ÃƒÂ§a me gÃƒÂªne\\n\\nBack\\n* it makes me feel uncomfortable\\n\\n### Card 73\\nFront\\n* ÃƒÂ§a me fait mal\\n\\nBack\\n* it makes me hurt\\n\\n### Card 74\\nFront\\n* ÃƒÂ§a me fait plaisir\\n\\nBack\\n* it makes me happy\\n\\n### Card 75\\nFront\\n* ÃƒÂ§a m'ÃƒÂ©nerve\\n\\nBack\\n* it pisses me off\\n\\n### Card 76\\nFront\\n* ÃƒÂ§a me fait peur\\n\\nBack\\n* It scares me\\n\\n### Card 77\\nFront\\n* ÃƒÂ§a marche\\n\\nBack\\n* it works\\n\\n### Card 78\\nFront\\n* ÃƒÂ§a ne se peut pas\\n\\nBack\\n* it's impossible\\n\\n### Card 79\\nFront\\n* ÃƒÂ§a fait longtemps\\n\\nBack\\n* that was a long time ago\\n\\n### Card 80\\nFront\\n* ÃƒÂ§a sert ÃƒÂ\\xa0 rien\\n\\nBack\\n* it's useless\\n\\n### Card 81\\nFront\\n* ÃƒÂ§a dÃƒÂ©pend\\n\\nBack\\n* it depends\\n\\n### Card 82\\nFront\\n* comment ÃƒÂ§a va ?comme si comme ÃƒÂ§a\\n\\nBack\\n* how are you? so so\\n\\n### Card 83\\nFront\\n* ÃƒÂ§a fait du bien\\n\\nBack\\n* it's good\""
      ]
     },
     "execution_count": 5,
     "metadata": {},
     "output_type": "execute_result"
    }
   ],
   "source": [
    "cards"
   ]
  },
  {
   "cell_type": "code",
   "execution_count": 6,
   "metadata": {},
   "outputs": [],
   "source": [
    "cards = cards.split('\\n###')"
   ]
  },
  {
   "cell_type": "code",
   "execution_count": 7,
   "metadata": {},
   "outputs": [],
   "source": [
    "df_cards = pd.DataFrame(cards,columns = ['text'])"
   ]
  },
  {
   "cell_type": "code",
   "execution_count": 8,
   "metadata": {},
   "outputs": [
    {
     "data": {
      "text/html": [
       "<div>\n",
       "<style scoped>\n",
       "    .dataframe tbody tr th:only-of-type {\n",
       "        vertical-align: middle;\n",
       "    }\n",
       "\n",
       "    .dataframe tbody tr th {\n",
       "        vertical-align: top;\n",
       "    }\n",
       "\n",
       "    .dataframe thead th {\n",
       "        text-align: right;\n",
       "    }\n",
       "</style>\n",
       "<table border=\"1\" class=\"dataframe\">\n",
       "  <thead>\n",
       "    <tr style=\"text-align: right;\">\n",
       "      <th></th>\n",
       "      <th>text</th>\n",
       "    </tr>\n",
       "  </thead>\n",
       "  <tbody>\n",
       "    <tr>\n",
       "      <td>0</td>\n",
       "      <td>### Card 1\\nFront\\n* qu'est-ce qui vous est ar...</td>\n",
       "    </tr>\n",
       "    <tr>\n",
       "      <td>1</td>\n",
       "      <td>Card 2\\nFront\\n* comment vous avez fait ÃƒÂ§a...</td>\n",
       "    </tr>\n",
       "    <tr>\n",
       "      <td>2</td>\n",
       "      <td>Card 3\\nFront\\n* qu'est-ce que c'est ?\\n\\nBac...</td>\n",
       "    </tr>\n",
       "    <tr>\n",
       "      <td>3</td>\n",
       "      <td>Card 4\\nFront\\n* Ãƒâ‚¬ quelle station est-ce ...</td>\n",
       "    </tr>\n",
       "    <tr>\n",
       "      <td>4</td>\n",
       "      <td>Card 5\\nFront\\n* C'est direct ?\\n\\nBack\\n* it...</td>\n",
       "    </tr>\n",
       "    <tr>\n",
       "      <td>...</td>\n",
       "      <td>...</td>\n",
       "    </tr>\n",
       "    <tr>\n",
       "      <td>78</td>\n",
       "      <td>Card 79\\nFront\\n* ÃƒÂ§a fait longtemps\\n\\nBac...</td>\n",
       "    </tr>\n",
       "    <tr>\n",
       "      <td>79</td>\n",
       "      <td>Card 80\\nFront\\n* ÃƒÂ§a sert ÃƒÂ  rien\\n\\nBac...</td>\n",
       "    </tr>\n",
       "    <tr>\n",
       "      <td>80</td>\n",
       "      <td>Card 81\\nFront\\n* ÃƒÂ§a dÃƒÂ©pend\\n\\nBack\\n* ...</td>\n",
       "    </tr>\n",
       "    <tr>\n",
       "      <td>81</td>\n",
       "      <td>Card 82\\nFront\\n* comment ÃƒÂ§a va ?comme si ...</td>\n",
       "    </tr>\n",
       "    <tr>\n",
       "      <td>82</td>\n",
       "      <td>Card 83\\nFront\\n* ÃƒÂ§a fait du bien\\n\\nBack\\...</td>\n",
       "    </tr>\n",
       "  </tbody>\n",
       "</table>\n",
       "<p>83 rows × 1 columns</p>\n",
       "</div>"
      ],
      "text/plain": [
       "                                                 text\n",
       "0   ### Card 1\\nFront\\n* qu'est-ce qui vous est ar...\n",
       "1    Card 2\\nFront\\n* comment vous avez fait ÃƒÂ§a...\n",
       "2    Card 3\\nFront\\n* qu'est-ce que c'est ?\\n\\nBac...\n",
       "3    Card 4\\nFront\\n* Ãƒâ‚¬ quelle station est-ce ...\n",
       "4    Card 5\\nFront\\n* C'est direct ?\\n\\nBack\\n* it...\n",
       "..                                                ...\n",
       "78   Card 79\\nFront\\n* ÃƒÂ§a fait longtemps\\n\\nBac...\n",
       "79   Card 80\\nFront\\n* ÃƒÂ§a sert ÃƒÂ  rien\\n\\nBac...\n",
       "80   Card 81\\nFront\\n* ÃƒÂ§a dÃƒÂ©pend\\n\\nBack\\n* ...\n",
       "81   Card 82\\nFront\\n* comment ÃƒÂ§a va ?comme si ...\n",
       "82   Card 83\\nFront\\n* ÃƒÂ§a fait du bien\\n\\nBack\\...\n",
       "\n",
       "[83 rows x 1 columns]"
      ]
     },
     "execution_count": 8,
     "metadata": {},
     "output_type": "execute_result"
    }
   ],
   "source": [
    "df_cards"
   ]
  },
  {
   "cell_type": "code",
   "execution_count": 9,
   "metadata": {},
   "outputs": [],
   "source": [
    "def front(text):\n",
    "    result = re.search('Front\\n\\* (.*)\\n\\nBack', text)\n",
    "    front_card = result.group(1)\n",
    "    return front_card\n",
    "\n",
    "def back(text):\n",
    "    result = re.search(r'Back\\n\\* (.*)', text)\n",
    "    back_card = result.group(1)\n",
    "    return back_card"
   ]
  },
  {
   "cell_type": "code",
   "execution_count": 10,
   "metadata": {},
   "outputs": [],
   "source": [
    "\n",
    "# cards = row['cards'].split('\\n###')\n",
    "# df_cards = pd.DataFrame(cards,columns = ['text'])\n",
    "df_cards['front'] = df_cards['text'].apply(front)\n",
    "df_cards['back'] = df_cards['text'].apply(back)\n",
    "df_cards = df_cards[['front','back']]\n",
    "path_csv = base_name[:-4] + '.csv'\n",
    "df_cards.to_csv(path_csv, index = False,encoding = 'utf-8-sig')"
   ]
  },
  {
   "cell_type": "code",
   "execution_count": 11,
   "metadata": {},
   "outputs": [
    {
     "data": {
      "text/html": [
       "<div>\n",
       "<style scoped>\n",
       "    .dataframe tbody tr th:only-of-type {\n",
       "        vertical-align: middle;\n",
       "    }\n",
       "\n",
       "    .dataframe tbody tr th {\n",
       "        vertical-align: top;\n",
       "    }\n",
       "\n",
       "    .dataframe thead th {\n",
       "        text-align: right;\n",
       "    }\n",
       "</style>\n",
       "<table border=\"1\" class=\"dataframe\">\n",
       "  <thead>\n",
       "    <tr style=\"text-align: right;\">\n",
       "      <th></th>\n",
       "      <th>front</th>\n",
       "      <th>back</th>\n",
       "    </tr>\n",
       "  </thead>\n",
       "  <tbody>\n",
       "    <tr>\n",
       "      <td>0</td>\n",
       "      <td>qu'est-ce qui vous est arrivÃƒÂ© ? = qu'est-ce...</td>\n",
       "      <td>What has happened to you ?</td>\n",
       "    </tr>\n",
       "    <tr>\n",
       "      <td>1</td>\n",
       "      <td>comment vous avez fait ÃƒÂ§a ?</td>\n",
       "      <td>how did you do that?</td>\n",
       "    </tr>\n",
       "    <tr>\n",
       "      <td>2</td>\n",
       "      <td>qu'est-ce que c'est ?</td>\n",
       "      <td>What is this?</td>\n",
       "    </tr>\n",
       "    <tr>\n",
       "      <td>3</td>\n",
       "      <td>Ãƒâ‚¬ quelle station est-ce que je dois descen...</td>\n",
       "      <td>Which station do I have to get off ?(dÃƒÂ¹ng t...</td>\n",
       "    </tr>\n",
       "    <tr>\n",
       "      <td>4</td>\n",
       "      <td>C'est direct ?</td>\n",
       "      <td>it's direct ?'(dÃƒÂ¹ng tron h?i du?ng)</td>\n",
       "    </tr>\n",
       "    <tr>\n",
       "      <td>...</td>\n",
       "      <td>...</td>\n",
       "      <td>...</td>\n",
       "    </tr>\n",
       "    <tr>\n",
       "      <td>78</td>\n",
       "      <td>ÃƒÂ§a fait longtemps</td>\n",
       "      <td>that was a long time ago</td>\n",
       "    </tr>\n",
       "    <tr>\n",
       "      <td>79</td>\n",
       "      <td>ÃƒÂ§a sert ÃƒÂ  rien</td>\n",
       "      <td>it's useless</td>\n",
       "    </tr>\n",
       "    <tr>\n",
       "      <td>80</td>\n",
       "      <td>ÃƒÂ§a dÃƒÂ©pend</td>\n",
       "      <td>it depends</td>\n",
       "    </tr>\n",
       "    <tr>\n",
       "      <td>81</td>\n",
       "      <td>comment ÃƒÂ§a va ?comme si comme ÃƒÂ§a</td>\n",
       "      <td>how are you? so so</td>\n",
       "    </tr>\n",
       "    <tr>\n",
       "      <td>82</td>\n",
       "      <td>ÃƒÂ§a fait du bien</td>\n",
       "      <td>it's good</td>\n",
       "    </tr>\n",
       "  </tbody>\n",
       "</table>\n",
       "<p>83 rows × 2 columns</p>\n",
       "</div>"
      ],
      "text/plain": [
       "                                                front  \\\n",
       "0   qu'est-ce qui vous est arrivÃƒÂ© ? = qu'est-ce...   \n",
       "1                      comment vous avez fait ÃƒÂ§a ?   \n",
       "2                               qu'est-ce que c'est ?   \n",
       "3   Ãƒâ‚¬ quelle station est-ce que je dois descen...   \n",
       "4                                      C'est direct ?   \n",
       "..                                                ...   \n",
       "78                               ÃƒÂ§a fait longtemps   \n",
       "79                               ÃƒÂ§a sert ÃƒÂ  rien   \n",
       "80                                    ÃƒÂ§a dÃƒÂ©pend   \n",
       "81             comment ÃƒÂ§a va ?comme si comme ÃƒÂ§a   \n",
       "82                                 ÃƒÂ§a fait du bien   \n",
       "\n",
       "                                                 back  \n",
       "0                          What has happened to you ?  \n",
       "1                                how did you do that?  \n",
       "2                                       What is this?  \n",
       "3   Which station do I have to get off ?(dÃƒÂ¹ng t...  \n",
       "4              it's direct ?'(dÃƒÂ¹ng tron h?i du?ng)  \n",
       "..                                                ...  \n",
       "78                           that was a long time ago  \n",
       "79                                       it's useless  \n",
       "80                                         it depends  \n",
       "81                                 how are you? so so  \n",
       "82                                          it's good  \n",
       "\n",
       "[83 rows x 2 columns]"
      ]
     },
     "execution_count": 11,
     "metadata": {},
     "output_type": "execute_result"
    }
   ],
   "source": [
    "df_cards\n"
   ]
  },
  {
   "cell_type": "code",
   "execution_count": 12,
   "metadata": {},
   "outputs": [
    {
     "name": "stdout",
     "output_type": "stream",
     "text": [
      "à | `0xE0` | `0xC3 0xA0`\n",
      "á | `0xE1` | `0xC3 0xA1`\n",
      "â | `0xE2` | `0xC3 0xA2`\n",
      "ã | `0xE3` | `0xC3 0xA3`\n",
      "ä | `0xE4` | `0xC3 0xA4`\n",
      "å | `0xE5` | `0xC3 0xA5`\n",
      "æ | `0xE6` | `0xC3 0xA6`\n",
      "ç | `0xE7` | `0xC3 0xA7`\n",
      "è | `0xE8` | `0xC3 0xA8`\n",
      "é | `0xE9` | `0xC3 0xA9`\n",
      "ê | `0xEA` | `0xC3 0xAA`\n",
      "ë | `0xEB` | `0xC3 0xAB`\n",
      "ì | `0xEC` | `0xC3 0xAC`\n",
      "í | `0xED` | `0xC3 0xAD`\n",
      "î | `0xEE` | `0xC3 0xAE`\n",
      "ï | `0xEF` | `0xC3 0xAF`\n"
     ]
    }
   ],
   "source": [
    "for s in 'àáâãäåæçèéêëìíîï':\n",
    "    i = ' '.join(['0x{:X}'.format(b) for b in s.encode('iso-8859-1')])\n",
    "    u = ' '.join(['0x{:X}'.format(b) for b in s.encode('utf-8')])\n",
    "    print('%s | `%s` | `%s`' % (s, i, u))"
   ]
  },
  {
   "cell_type": "code",
   "execution_count": 13,
   "metadata": {},
   "outputs": [],
   "source": [
    "def encode(char, code):\n",
    "    return char.encode(code)"
   ]
  },
  {
   "cell_type": "code",
   "execution_count": 14,
   "metadata": {},
   "outputs": [
    {
     "data": {
      "text/plain": [
       "b'\\xe0'"
      ]
     },
     "execution_count": 14,
     "metadata": {},
     "output_type": "execute_result"
    }
   ],
   "source": [
    "encode('à','iso-8859-1')\n"
   ]
  },
  {
   "cell_type": "code",
   "execution_count": 15,
   "metadata": {},
   "outputs": [],
   "source": [
    "df_encode = pd.DataFrame(data = {'char': ['à','á','â','ã','ä','å','æ','ç','è','é','ê','ë','ì','í','î','ï']})"
   ]
  },
  {
   "cell_type": "code",
   "execution_count": 16,
   "metadata": {},
   "outputs": [],
   "source": [
    "df_encode['iso-8859-1'] = df_encode['char'].apply(encode, code='iso-8859-1')\n",
    "df_encode['iso-8859-15'] = df_encode['char'].apply(encode, code='iso-8859-15')\n",
    "df_encode['utf-8'] = df_encode['char'].apply(encode, code='utf-8')\n",
    "df_encode['cp1252'] = df_encode['char'].apply(encode, code='cp1252')"
   ]
  },
  {
   "cell_type": "code",
   "execution_count": 17,
   "metadata": {},
   "outputs": [
    {
     "data": {
      "text/html": [
       "<div>\n",
       "<style scoped>\n",
       "    .dataframe tbody tr th:only-of-type {\n",
       "        vertical-align: middle;\n",
       "    }\n",
       "\n",
       "    .dataframe tbody tr th {\n",
       "        vertical-align: top;\n",
       "    }\n",
       "\n",
       "    .dataframe thead th {\n",
       "        text-align: right;\n",
       "    }\n",
       "</style>\n",
       "<table border=\"1\" class=\"dataframe\">\n",
       "  <thead>\n",
       "    <tr style=\"text-align: right;\">\n",
       "      <th></th>\n",
       "      <th>char</th>\n",
       "      <th>iso-8859-1</th>\n",
       "      <th>iso-8859-15</th>\n",
       "      <th>utf-8</th>\n",
       "      <th>cp1252</th>\n",
       "    </tr>\n",
       "  </thead>\n",
       "  <tbody>\n",
       "    <tr>\n",
       "      <td>0</td>\n",
       "      <td>à</td>\n",
       "      <td>b'\\xe0'</td>\n",
       "      <td>b'\\xe0'</td>\n",
       "      <td>b'\\xc3\\xa0'</td>\n",
       "      <td>b'\\xe0'</td>\n",
       "    </tr>\n",
       "    <tr>\n",
       "      <td>1</td>\n",
       "      <td>á</td>\n",
       "      <td>b'\\xe1'</td>\n",
       "      <td>b'\\xe1'</td>\n",
       "      <td>b'\\xc3\\xa1'</td>\n",
       "      <td>b'\\xe1'</td>\n",
       "    </tr>\n",
       "    <tr>\n",
       "      <td>2</td>\n",
       "      <td>â</td>\n",
       "      <td>b'\\xe2'</td>\n",
       "      <td>b'\\xe2'</td>\n",
       "      <td>b'\\xc3\\xa2'</td>\n",
       "      <td>b'\\xe2'</td>\n",
       "    </tr>\n",
       "    <tr>\n",
       "      <td>3</td>\n",
       "      <td>ã</td>\n",
       "      <td>b'\\xe3'</td>\n",
       "      <td>b'\\xe3'</td>\n",
       "      <td>b'\\xc3\\xa3'</td>\n",
       "      <td>b'\\xe3'</td>\n",
       "    </tr>\n",
       "    <tr>\n",
       "      <td>4</td>\n",
       "      <td>ä</td>\n",
       "      <td>b'\\xe4'</td>\n",
       "      <td>b'\\xe4'</td>\n",
       "      <td>b'\\xc3\\xa4'</td>\n",
       "      <td>b'\\xe4'</td>\n",
       "    </tr>\n",
       "    <tr>\n",
       "      <td>5</td>\n",
       "      <td>å</td>\n",
       "      <td>b'\\xe5'</td>\n",
       "      <td>b'\\xe5'</td>\n",
       "      <td>b'\\xc3\\xa5'</td>\n",
       "      <td>b'\\xe5'</td>\n",
       "    </tr>\n",
       "    <tr>\n",
       "      <td>6</td>\n",
       "      <td>æ</td>\n",
       "      <td>b'\\xe6'</td>\n",
       "      <td>b'\\xe6'</td>\n",
       "      <td>b'\\xc3\\xa6'</td>\n",
       "      <td>b'\\xe6'</td>\n",
       "    </tr>\n",
       "    <tr>\n",
       "      <td>7</td>\n",
       "      <td>ç</td>\n",
       "      <td>b'\\xe7'</td>\n",
       "      <td>b'\\xe7'</td>\n",
       "      <td>b'\\xc3\\xa7'</td>\n",
       "      <td>b'\\xe7'</td>\n",
       "    </tr>\n",
       "    <tr>\n",
       "      <td>8</td>\n",
       "      <td>è</td>\n",
       "      <td>b'\\xe8'</td>\n",
       "      <td>b'\\xe8'</td>\n",
       "      <td>b'\\xc3\\xa8'</td>\n",
       "      <td>b'\\xe8'</td>\n",
       "    </tr>\n",
       "    <tr>\n",
       "      <td>9</td>\n",
       "      <td>é</td>\n",
       "      <td>b'\\xe9'</td>\n",
       "      <td>b'\\xe9'</td>\n",
       "      <td>b'\\xc3\\xa9'</td>\n",
       "      <td>b'\\xe9'</td>\n",
       "    </tr>\n",
       "    <tr>\n",
       "      <td>10</td>\n",
       "      <td>ê</td>\n",
       "      <td>b'\\xea'</td>\n",
       "      <td>b'\\xea'</td>\n",
       "      <td>b'\\xc3\\xaa'</td>\n",
       "      <td>b'\\xea'</td>\n",
       "    </tr>\n",
       "    <tr>\n",
       "      <td>11</td>\n",
       "      <td>ë</td>\n",
       "      <td>b'\\xeb'</td>\n",
       "      <td>b'\\xeb'</td>\n",
       "      <td>b'\\xc3\\xab'</td>\n",
       "      <td>b'\\xeb'</td>\n",
       "    </tr>\n",
       "    <tr>\n",
       "      <td>12</td>\n",
       "      <td>ì</td>\n",
       "      <td>b'\\xec'</td>\n",
       "      <td>b'\\xec'</td>\n",
       "      <td>b'\\xc3\\xac'</td>\n",
       "      <td>b'\\xec'</td>\n",
       "    </tr>\n",
       "    <tr>\n",
       "      <td>13</td>\n",
       "      <td>í</td>\n",
       "      <td>b'\\xed'</td>\n",
       "      <td>b'\\xed'</td>\n",
       "      <td>b'\\xc3\\xad'</td>\n",
       "      <td>b'\\xed'</td>\n",
       "    </tr>\n",
       "    <tr>\n",
       "      <td>14</td>\n",
       "      <td>î</td>\n",
       "      <td>b'\\xee'</td>\n",
       "      <td>b'\\xee'</td>\n",
       "      <td>b'\\xc3\\xae'</td>\n",
       "      <td>b'\\xee'</td>\n",
       "    </tr>\n",
       "    <tr>\n",
       "      <td>15</td>\n",
       "      <td>ï</td>\n",
       "      <td>b'\\xef'</td>\n",
       "      <td>b'\\xef'</td>\n",
       "      <td>b'\\xc3\\xaf'</td>\n",
       "      <td>b'\\xef'</td>\n",
       "    </tr>\n",
       "  </tbody>\n",
       "</table>\n",
       "</div>"
      ],
      "text/plain": [
       "   char iso-8859-1 iso-8859-15        utf-8   cp1252\n",
       "0     à    b'\\xe0'     b'\\xe0'  b'\\xc3\\xa0'  b'\\xe0'\n",
       "1     á    b'\\xe1'     b'\\xe1'  b'\\xc3\\xa1'  b'\\xe1'\n",
       "2     â    b'\\xe2'     b'\\xe2'  b'\\xc3\\xa2'  b'\\xe2'\n",
       "3     ã    b'\\xe3'     b'\\xe3'  b'\\xc3\\xa3'  b'\\xe3'\n",
       "4     ä    b'\\xe4'     b'\\xe4'  b'\\xc3\\xa4'  b'\\xe4'\n",
       "5     å    b'\\xe5'     b'\\xe5'  b'\\xc3\\xa5'  b'\\xe5'\n",
       "6     æ    b'\\xe6'     b'\\xe6'  b'\\xc3\\xa6'  b'\\xe6'\n",
       "7     ç    b'\\xe7'     b'\\xe7'  b'\\xc3\\xa7'  b'\\xe7'\n",
       "8     è    b'\\xe8'     b'\\xe8'  b'\\xc3\\xa8'  b'\\xe8'\n",
       "9     é    b'\\xe9'     b'\\xe9'  b'\\xc3\\xa9'  b'\\xe9'\n",
       "10    ê    b'\\xea'     b'\\xea'  b'\\xc3\\xaa'  b'\\xea'\n",
       "11    ë    b'\\xeb'     b'\\xeb'  b'\\xc3\\xab'  b'\\xeb'\n",
       "12    ì    b'\\xec'     b'\\xec'  b'\\xc3\\xac'  b'\\xec'\n",
       "13    í    b'\\xed'     b'\\xed'  b'\\xc3\\xad'  b'\\xed'\n",
       "14    î    b'\\xee'     b'\\xee'  b'\\xc3\\xae'  b'\\xee'\n",
       "15    ï    b'\\xef'     b'\\xef'  b'\\xc3\\xaf'  b'\\xef'"
      ]
     },
     "execution_count": 17,
     "metadata": {},
     "output_type": "execute_result"
    }
   ],
   "source": [
    "df_encode"
   ]
  },
  {
   "cell_type": "code",
   "execution_count": 18,
   "metadata": {},
   "outputs": [],
   "source": [
    "df_text = pd.DataFrame(data = {'text': ['ÃƒÂ©']})"
   ]
  },
  {
   "cell_type": "code",
   "execution_count": 19,
   "metadata": {},
   "outputs": [],
   "source": [
    "df_text['cp1252'] = df_text['text'].apply(encode, code='cp1252')"
   ]
  },
  {
   "cell_type": "code",
   "execution_count": 20,
   "metadata": {},
   "outputs": [
    {
     "data": {
      "text/html": [
       "<div>\n",
       "<style scoped>\n",
       "    .dataframe tbody tr th:only-of-type {\n",
       "        vertical-align: middle;\n",
       "    }\n",
       "\n",
       "    .dataframe tbody tr th {\n",
       "        vertical-align: top;\n",
       "    }\n",
       "\n",
       "    .dataframe thead th {\n",
       "        text-align: right;\n",
       "    }\n",
       "</style>\n",
       "<table border=\"1\" class=\"dataframe\">\n",
       "  <thead>\n",
       "    <tr style=\"text-align: right;\">\n",
       "      <th></th>\n",
       "      <th>text</th>\n",
       "      <th>cp1252</th>\n",
       "    </tr>\n",
       "  </thead>\n",
       "  <tbody>\n",
       "    <tr>\n",
       "      <td>0</td>\n",
       "      <td>ÃƒÂ©</td>\n",
       "      <td>b'\\xc3\\x83\\xc2\\xa9'</td>\n",
       "    </tr>\n",
       "  </tbody>\n",
       "</table>\n",
       "</div>"
      ],
      "text/plain": [
       "   text               cp1252\n",
       "0  ÃƒÂ©  b'\\xc3\\x83\\xc2\\xa9'"
      ]
     },
     "execution_count": 20,
     "metadata": {},
     "output_type": "execute_result"
    }
   ],
   "source": [
    "df_text"
   ]
  },
  {
   "cell_type": "markdown",
   "metadata": {},
   "source": [
    "check list of encode in this link : https://docs.python.org/2.4/lib/standard-encodings.html"
   ]
  },
  {
   "cell_type": "code",
   "execution_count": 21,
   "metadata": {},
   "outputs": [],
   "source": [
    "# df_text['iso-8859-1'] = df_text['text'].apply(encode, code='iso-8859-1')\n",
    "# df_text['iso-8859-15'] = df_text['text'].apply(encode, code='iso-8859-15')\n",
    "# df_text['utf-8'] = df_text['text'].apply(encode, code='utf-8')\n",
    "# df_text['cp1252'] = df_text['text'].apply(encode, code='cp1252')"
   ]
  },
  {
   "cell_type": "code",
   "execution_count": 22,
   "metadata": {},
   "outputs": [],
   "source": [
    "df_text['utf-8'] = df_text['text'].apply(encode, code='utf-8')"
   ]
  },
  {
   "cell_type": "code",
   "execution_count": 23,
   "metadata": {},
   "outputs": [
    {
     "data": {
      "text/html": [
       "<div>\n",
       "<style scoped>\n",
       "    .dataframe tbody tr th:only-of-type {\n",
       "        vertical-align: middle;\n",
       "    }\n",
       "\n",
       "    .dataframe tbody tr th {\n",
       "        vertical-align: top;\n",
       "    }\n",
       "\n",
       "    .dataframe thead th {\n",
       "        text-align: right;\n",
       "    }\n",
       "</style>\n",
       "<table border=\"1\" class=\"dataframe\">\n",
       "  <thead>\n",
       "    <tr style=\"text-align: right;\">\n",
       "      <th></th>\n",
       "      <th>text</th>\n",
       "      <th>cp1252</th>\n",
       "      <th>utf-8</th>\n",
       "    </tr>\n",
       "  </thead>\n",
       "  <tbody>\n",
       "    <tr>\n",
       "      <td>0</td>\n",
       "      <td>ÃƒÂ©</td>\n",
       "      <td>b'\\xc3\\x83\\xc2\\xa9'</td>\n",
       "      <td>b'\\xc3\\x83\\xc6\\x92\\xc3\\x82\\xc2\\xa9'</td>\n",
       "    </tr>\n",
       "  </tbody>\n",
       "</table>\n",
       "</div>"
      ],
      "text/plain": [
       "   text               cp1252                                utf-8\n",
       "0  ÃƒÂ©  b'\\xc3\\x83\\xc2\\xa9'  b'\\xc3\\x83\\xc6\\x92\\xc3\\x82\\xc2\\xa9'"
      ]
     },
     "execution_count": 23,
     "metadata": {},
     "output_type": "execute_result"
    }
   ],
   "source": [
    "df_text"
   ]
  },
  {
   "cell_type": "code",
   "execution_count": null,
   "metadata": {},
   "outputs": [],
   "source": []
  }
 ],
 "metadata": {
  "kernelspec": {
   "display_name": "Python 3",
   "language": "python",
   "name": "python3"
  },
  "language_info": {
   "codemirror_mode": {
    "name": "ipython",
    "version": 3
   },
   "file_extension": ".py",
   "mimetype": "text/x-python",
   "name": "python",
   "nbconvert_exporter": "python",
   "pygments_lexer": "ipython3",
   "version": "3.6.6"
  }
 },
 "nbformat": 4,
 "nbformat_minor": 4
}
