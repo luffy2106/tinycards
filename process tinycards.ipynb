{
 "cells": [
  {
   "cell_type": "code",
   "execution_count": 1,
   "metadata": {},
   "outputs": [],
   "source": [
    "import pandas as pd\n",
    "import re"
   ]
  },
  {
   "cell_type": "code",
   "execution_count": 2,
   "metadata": {},
   "outputs": [],
   "source": [
    "df = pd.read_csv('decks.csv') "
   ]
  },
  {
   "cell_type": "code",
   "execution_count": 3,
   "metadata": {},
   "outputs": [],
   "source": [
    "s1 = u'ÀÁÂÃÈÉÊÌÍÒÓÔÕÙÚÝàáâãèéêìíòóôõùúýĂăĐđĨĩŨũƠơƯưẠạẢảẤấẦầẨẩẪẫẬậẮắẰằẲẳẴẵẶặẸẹẺẻẼẽẾếỀềỂểỄễỆệỈỉỊịỌọỎỏỐốỒồỔổỖỗỘộỚớỜờỞởỠỡỢợỤụỦủỨứỪừỬửỮữỰựỲỳỴỵỶỷỸỹ'\n",
    "s0 = u'AAAAEEEIIOOOOUUYaaaaeeeiioooouuyAaDdIiUuOoUuAaAaAaAaAaAaAaAaAaAaAaAaEeEeEeEeEeEeEeEeIiIiOoOoOoOoOoOoOoOoOoOoOoOoUuUuUuUuUuUuUuYyYyYyYy'\n",
    "def remove_accents(input_str):\n",
    "    s = ''\n",
    "    for c in input_str:\n",
    "        if c in s1:\n",
    "            s += s0[s1.index(c)]\n",
    "        else:\n",
    "            s += c\n",
    "    s = re.sub(r'[?+/->\"]', ' ', s)\n",
    "    return s"
   ]
  },
  {
   "cell_type": "code",
   "execution_count": 4,
   "metadata": {},
   "outputs": [
    {
     "data": {
      "text/plain": [
       "'les nationalites -  les personnels.csv'"
      ]
     },
     "execution_count": 4,
     "metadata": {},
     "output_type": "execute_result"
    }
   ],
   "source": [
    "remove_accents('les nationalites -> les personnels.csv')"
   ]
  },
  {
   "cell_type": "code",
   "execution_count": 5,
   "metadata": {},
   "outputs": [],
   "source": [
    "df['name'] = df['name'].apply(remove_accents)"
   ]
  },
  {
   "cell_type": "code",
   "execution_count": 6,
   "metadata": {},
   "outputs": [
    {
     "data": {
      "text/plain": [
       "0                                Technology\n",
       "1     Cac cau h i   tr  l i trong giao ti p\n",
       "2                          Noncategorical  \n",
       "3                      Hanh d ng c a s  v t\n",
       "4         French Vocab in document, email  \n",
       "                      ...                  \n",
       "93              Observation et entrainement\n",
       "94         Un pronom tonique(d i t  b  ng )\n",
       "95                    l'amour - Les emotion\n",
       "96                                Christmas\n",
       "97                     Simple communication\n",
       "Name: name, Length: 98, dtype: object"
      ]
     },
     "execution_count": 6,
     "metadata": {},
     "output_type": "execute_result"
    }
   ],
   "source": [
    "df['name']"
   ]
  },
  {
   "cell_type": "code",
   "execution_count": 7,
   "metadata": {},
   "outputs": [
    {
     "data": {
      "text/plain": [
       "0    NaN\n",
       "1    NaN\n",
       "2    NaN\n",
       "3    NaN\n",
       "4    NaN\n",
       "      ..\n",
       "93   NaN\n",
       "94   NaN\n",
       "95   NaN\n",
       "96   NaN\n",
       "97   NaN\n",
       "Name: coverImage, Length: 98, dtype: float64"
      ]
     },
     "execution_count": 7,
     "metadata": {},
     "output_type": "execute_result"
    }
   ],
   "source": [
    "df['coverImage']"
   ]
  },
  {
   "cell_type": "code",
   "execution_count": 8,
   "metadata": {},
   "outputs": [],
   "source": [
    "df_cards_topic =df[['name','cards']]"
   ]
  },
  {
   "cell_type": "code",
   "execution_count": 9,
   "metadata": {},
   "outputs": [
    {
     "data": {
      "text/html": [
       "<div>\n",
       "<style scoped>\n",
       "    .dataframe tbody tr th:only-of-type {\n",
       "        vertical-align: middle;\n",
       "    }\n",
       "\n",
       "    .dataframe tbody tr th {\n",
       "        vertical-align: top;\n",
       "    }\n",
       "\n",
       "    .dataframe thead th {\n",
       "        text-align: right;\n",
       "    }\n",
       "</style>\n",
       "<table border=\"1\" class=\"dataframe\">\n",
       "  <thead>\n",
       "    <tr style=\"text-align: right;\">\n",
       "      <th></th>\n",
       "      <th>name</th>\n",
       "      <th>cards</th>\n",
       "    </tr>\n",
       "  </thead>\n",
       "  <tbody>\n",
       "    <tr>\n",
       "      <th>0</th>\n",
       "      <td>Technology</td>\n",
       "      <td>### Card 1\\nFront\\n* périmètre. PÉRIMÈTRE DU P...</td>\n",
       "    </tr>\n",
       "    <tr>\n",
       "      <th>1</th>\n",
       "      <td>Cac cau h i   tr  l i trong giao ti p</td>\n",
       "      <td>### Card 1\\nFront\\n* qu'est-ce qui vous est ar...</td>\n",
       "    </tr>\n",
       "    <tr>\n",
       "      <th>2</th>\n",
       "      <td>Noncategorical</td>\n",
       "      <td>### Card 1\\nFront\\n* deviner. Devine comment i...</td>\n",
       "    </tr>\n",
       "    <tr>\n",
       "      <th>3</th>\n",
       "      <td>Hanh d ng c a s  v t</td>\n",
       "      <td>### Card 1\\nFront\\n* retarder. Cette montre re...</td>\n",
       "    </tr>\n",
       "    <tr>\n",
       "      <th>4</th>\n",
       "      <td>French Vocab in document, email</td>\n",
       "      <td>### Card 1\\nFront\\n* prendre effet. Vos option...</td>\n",
       "    </tr>\n",
       "    <tr>\n",
       "      <th>...</th>\n",
       "      <td>...</td>\n",
       "      <td>...</td>\n",
       "    </tr>\n",
       "    <tr>\n",
       "      <th>93</th>\n",
       "      <td>Observation et entrainement</td>\n",
       "      <td>### Card 1\\nFront\\n* paris va “gagner”\\n\\nBack...</td>\n",
       "    </tr>\n",
       "    <tr>\n",
       "      <th>94</th>\n",
       "      <td>Un pronom tonique(d i t  b  ng )</td>\n",
       "      <td>### Card 1\\nFront\\n* je\\n\\nBack\\n* moi\\n\\n### ...</td>\n",
       "    </tr>\n",
       "    <tr>\n",
       "      <th>95</th>\n",
       "      <td>l'amour - Les emotion</td>\n",
       "      <td>### Card 1\\nFront\\n* Gabriel \"rencontre\" Mathi...</td>\n",
       "    </tr>\n",
       "    <tr>\n",
       "      <th>96</th>\n",
       "      <td>Christmas</td>\n",
       "      <td>### Card 1\\nFront\\n* les premiers flocons de n...</td>\n",
       "    </tr>\n",
       "    <tr>\n",
       "      <th>97</th>\n",
       "      <td>Simple communication</td>\n",
       "      <td>### Card 1\\nFront\\n* Vous êtes \"né(e)\" quand? ...</td>\n",
       "    </tr>\n",
       "  </tbody>\n",
       "</table>\n",
       "<p>98 rows × 2 columns</p>\n",
       "</div>"
      ],
      "text/plain": [
       "                                     name  \\\n",
       "0                              Technology   \n",
       "1   Cac cau h i   tr  l i trong giao ti p   \n",
       "2                        Noncategorical     \n",
       "3                    Hanh d ng c a s  v t   \n",
       "4       French Vocab in document, email     \n",
       "..                                    ...   \n",
       "93            Observation et entrainement   \n",
       "94       Un pronom tonique(d i t  b  ng )   \n",
       "95                  l'amour - Les emotion   \n",
       "96                              Christmas   \n",
       "97                   Simple communication   \n",
       "\n",
       "                                                cards  \n",
       "0   ### Card 1\\nFront\\n* périmètre. PÉRIMÈTRE DU P...  \n",
       "1   ### Card 1\\nFront\\n* qu'est-ce qui vous est ar...  \n",
       "2   ### Card 1\\nFront\\n* deviner. Devine comment i...  \n",
       "3   ### Card 1\\nFront\\n* retarder. Cette montre re...  \n",
       "4   ### Card 1\\nFront\\n* prendre effet. Vos option...  \n",
       "..                                                ...  \n",
       "93  ### Card 1\\nFront\\n* paris va “gagner”\\n\\nBack...  \n",
       "94  ### Card 1\\nFront\\n* je\\n\\nBack\\n* moi\\n\\n### ...  \n",
       "95  ### Card 1\\nFront\\n* Gabriel \"rencontre\" Mathi...  \n",
       "96  ### Card 1\\nFront\\n* les premiers flocons de n...  \n",
       "97  ### Card 1\\nFront\\n* Vous êtes \"né(e)\" quand? ...  \n",
       "\n",
       "[98 rows x 2 columns]"
      ]
     },
     "execution_count": 9,
     "metadata": {},
     "output_type": "execute_result"
    }
   ],
   "source": [
    "df_cards_topic"
   ]
  },
  {
   "cell_type": "code",
   "execution_count": 10,
   "metadata": {},
   "outputs": [
    {
     "data": {
      "text/plain": [
       "['### Card 1\\nFront\\n* 20\\n\\nBack\\n* vingt\\n',\n",
       " ' Card 2\\nFront\\n* 30\\n\\nBack\\n* trente\\n',\n",
       " ' Card 3\\nFront\\n* 40\\n\\nBack\\n* quarante\\n',\n",
       " ' Card 4\\nFront\\n* 50\\n\\nBack\\n* cinquante\\n',\n",
       " ' Card 5\\nFront\\n* 60\\n\\nBack\\n* soixante\\n',\n",
       " ' Card 6\\nFront\\n* 70\\n\\nBack\\n* soixante dix\\n',\n",
       " ' Card 7\\nFront\\n* 80\\n\\nBack\\n* quatre vingt\\n',\n",
       " ' Card 8\\nFront\\n* 90\\n\\nBack\\n* quatre vingt dix\\n',\n",
       " ' Card 9\\nFront\\n* 100\\n\\nBack\\n* cent\\n',\n",
       " ' Card 10\\nFront\\n* 71\\n\\nBack\\n* soixante et onze\\n',\n",
       " ' Card 11\\nFront\\n* 91\\n\\nBack\\n* quatre vingt onze\\n',\n",
       " ' Card 12\\nFront\\n* 101\\n\\nBack\\n* cent un\\n',\n",
       " ' Card 13\\nFront\\n* 22\\n\\nBack\\n* vingt deux\\n',\n",
       " ' Card 14\\nFront\\n* 62\\n\\nBack\\n* soixante deux\\n',\n",
       " ' Card 15\\nFront\\n* soixante douze\\n\\nBack\\n* 72\\n',\n",
       " ' Card 16\\nFront\\n* 82\\n\\nBack\\n* quatre vingt deux\\n',\n",
       " ' Card 17\\nFront\\n* 92\\n\\nBack\\n* quatre vingt douze\\n',\n",
       " ' Card 18\\nFront\\n* 102\\n\\nBack\\n* cent deux\\n',\n",
       " ' Card 19\\nFront\\n* zéro (zay-ro)\\n\\nBack\\n* 0\\n',\n",
       " ' Card 20\\nFront\\n* un\\n\\nBack\\n* one (uh)\\n',\n",
       " ' Card 21\\nFront\\n* deux\\n\\nBack\\n* two(duhr)\\n',\n",
       " ' Card 22\\nFront\\n* trois(twa)\\n\\nBack\\n* three\\n',\n",
       " ' Card 23\\nFront\\n* quatre(katr)\\n\\nBack\\n* four\\n',\n",
       " ' Card 24\\nFront\\n* cinq(sank)\\n\\nBack\\n* five\\n',\n",
       " ' Card 25\\nFront\\n* six(sees)\\n\\nBack\\n* six\\n',\n",
       " ' Card 26\\nFront\\n* sept(set)\\n\\nBack\\n* seven\\n',\n",
       " ' Card 27\\nFront\\n* huit(weet)\\n\\nBack\\n* eight\\n',\n",
       " ' Card 28\\nFront\\n* neuf(nurf)\\n\\nBack\\n* nine\\n',\n",
       " ' Card 29\\nFront\\n* dix(dees)\\n\\nBack\\n* 10\\n',\n",
       " ' Card 30\\nFront\\n* onze\\n\\nBack\\n* 11\\n',\n",
       " ' Card 31\\nFront\\n* douze\\n\\nBack\\n* twelve\\n',\n",
       " ' Card 32\\nFront\\n* treize\\n\\nBack\\n* thirteen\\n',\n",
       " ' Card 33\\nFront\\n* quatorze\\n\\nBack\\n* fourteen\\n',\n",
       " ' Card 34\\nFront\\n* quinze\\n\\nBack\\n* fifteen\\n',\n",
       " ' Card 35\\nFront\\n* seize\\n\\nBack\\n* 16\\n',\n",
       " ' Card 36\\nFront\\n* dix sept\\n\\nBack\\n* 17\\n',\n",
       " ' Card 37\\nFront\\n* dix huit\\n\\nBack\\n* 18\\n',\n",
       " ' Card 38\\nFront\\n* dix neuf\\n\\nBack\\n* 19\\n',\n",
       " ' Card 39\\nFront\\n* vingt\\n\\nBack\\n* 20\\n',\n",
       " ' Card 40\\nFront\\n* trois fois trois\\n\\nBack\\n* 3 * 3\\n',\n",
       " ' Card 41\\nFront\\n* trois plus trois\\n\\nBack\\n* 3 + 3\\n',\n",
       " ' Card 42\\nFront\\n* Mille\\n\\nBack\\n* thousand\\n',\n",
       " ' Card 43\\nFront\\n* un million\\n\\nBack\\n* one million\\n',\n",
       " ' Card 44\\nFront\\n* un milliard\\n\\nBack\\n* one billion\\n',\n",
       " \" Card 45\\nFront\\n* chiffres. C'est le code de 5 chiffres qui indique la ville.\\n\\nBack\\n* ch? s?\"]"
      ]
     },
     "execution_count": 10,
     "metadata": {},
     "output_type": "execute_result"
    }
   ],
   "source": [
    "df_cards_topic[df_cards_topic['name'] == 'Les nombres']['cards'].values[0].split('\\n###')\n"
   ]
  },
  {
   "cell_type": "code",
   "execution_count": 11,
   "metadata": {},
   "outputs": [],
   "source": [
    "def front(text):\n",
    "    result = re.search('Front\\n\\* (.*)\\n\\nBack', text)\n",
    "    front_card = result.group(1)\n",
    "    return front_card\n",
    "\n",
    "def back(text):\n",
    "    result = re.search(r'Back\\n\\* (.*)', text)\n",
    "    back_card = result.group(1)\n",
    "    return back_card"
   ]
  },
  {
   "cell_type": "code",
   "execution_count": 12,
   "metadata": {},
   "outputs": [],
   "source": [
    "s = \" Card 45\\nFront\\n* chiffres. C'est le code de 5 chiffres qui indique la ville.\\n\\nBack\\n* ch? s?\""
   ]
  },
  {
   "cell_type": "code",
   "execution_count": 13,
   "metadata": {},
   "outputs": [
    {
     "data": {
      "text/plain": [
       "\"chiffres. C'est le code de 5 chiffres qui indique la ville.\""
      ]
     },
     "execution_count": 13,
     "metadata": {},
     "output_type": "execute_result"
    }
   ],
   "source": [
    "front(s)"
   ]
  },
  {
   "cell_type": "code",
   "execution_count": 14,
   "metadata": {},
   "outputs": [],
   "source": [
    "result = re.search('Front\\\\n\\* (.*)\\\\n\\\\nBack\\\\n\\*', s)"
   ]
  },
  {
   "cell_type": "code",
   "execution_count": 15,
   "metadata": {},
   "outputs": [
    {
     "name": "stdout",
     "output_type": "stream",
     "text": [
      "chiffres. C'est le code de 5 chiffres qui indique la ville.\n"
     ]
    }
   ],
   "source": [
    "print(result.group(1))"
   ]
  },
  {
   "cell_type": "code",
   "execution_count": 16,
   "metadata": {},
   "outputs": [
    {
     "data": {
      "text/plain": [
       "'ch? s?'"
      ]
     },
     "execution_count": 16,
     "metadata": {},
     "output_type": "execute_result"
    }
   ],
   "source": [
    "back(s)"
   ]
  },
  {
   "cell_type": "code",
   "execution_count": 17,
   "metadata": {},
   "outputs": [
    {
     "data": {
      "text/html": [
       "<div>\n",
       "<style scoped>\n",
       "    .dataframe tbody tr th:only-of-type {\n",
       "        vertical-align: middle;\n",
       "    }\n",
       "\n",
       "    .dataframe tbody tr th {\n",
       "        vertical-align: top;\n",
       "    }\n",
       "\n",
       "    .dataframe thead th {\n",
       "        text-align: right;\n",
       "    }\n",
       "</style>\n",
       "<table border=\"1\" class=\"dataframe\">\n",
       "  <thead>\n",
       "    <tr style=\"text-align: right;\">\n",
       "      <th></th>\n",
       "      <th>name</th>\n",
       "      <th>cards</th>\n",
       "    </tr>\n",
       "  </thead>\n",
       "  <tbody>\n",
       "    <tr>\n",
       "      <th>0</th>\n",
       "      <td>Technology</td>\n",
       "      <td>### Card 1\\nFront\\n* périmètre. PÉRIMÈTRE DU P...</td>\n",
       "    </tr>\n",
       "    <tr>\n",
       "      <th>1</th>\n",
       "      <td>Cac cau h i   tr  l i trong giao ti p</td>\n",
       "      <td>### Card 1\\nFront\\n* qu'est-ce qui vous est ar...</td>\n",
       "    </tr>\n",
       "    <tr>\n",
       "      <th>2</th>\n",
       "      <td>Noncategorical</td>\n",
       "      <td>### Card 1\\nFront\\n* deviner. Devine comment i...</td>\n",
       "    </tr>\n",
       "    <tr>\n",
       "      <th>3</th>\n",
       "      <td>Hanh d ng c a s  v t</td>\n",
       "      <td>### Card 1\\nFront\\n* retarder. Cette montre re...</td>\n",
       "    </tr>\n",
       "    <tr>\n",
       "      <th>4</th>\n",
       "      <td>French Vocab in document, email</td>\n",
       "      <td>### Card 1\\nFront\\n* prendre effet. Vos option...</td>\n",
       "    </tr>\n",
       "    <tr>\n",
       "      <th>...</th>\n",
       "      <td>...</td>\n",
       "      <td>...</td>\n",
       "    </tr>\n",
       "    <tr>\n",
       "      <th>93</th>\n",
       "      <td>Observation et entrainement</td>\n",
       "      <td>### Card 1\\nFront\\n* paris va “gagner”\\n\\nBack...</td>\n",
       "    </tr>\n",
       "    <tr>\n",
       "      <th>94</th>\n",
       "      <td>Un pronom tonique(d i t  b  ng )</td>\n",
       "      <td>### Card 1\\nFront\\n* je\\n\\nBack\\n* moi\\n\\n### ...</td>\n",
       "    </tr>\n",
       "    <tr>\n",
       "      <th>95</th>\n",
       "      <td>l'amour - Les emotion</td>\n",
       "      <td>### Card 1\\nFront\\n* Gabriel \"rencontre\" Mathi...</td>\n",
       "    </tr>\n",
       "    <tr>\n",
       "      <th>96</th>\n",
       "      <td>Christmas</td>\n",
       "      <td>### Card 1\\nFront\\n* les premiers flocons de n...</td>\n",
       "    </tr>\n",
       "    <tr>\n",
       "      <th>97</th>\n",
       "      <td>Simple communication</td>\n",
       "      <td>### Card 1\\nFront\\n* Vous êtes \"né(e)\" quand? ...</td>\n",
       "    </tr>\n",
       "  </tbody>\n",
       "</table>\n",
       "<p>98 rows × 2 columns</p>\n",
       "</div>"
      ],
      "text/plain": [
       "                                     name  \\\n",
       "0                              Technology   \n",
       "1   Cac cau h i   tr  l i trong giao ti p   \n",
       "2                        Noncategorical     \n",
       "3                    Hanh d ng c a s  v t   \n",
       "4       French Vocab in document, email     \n",
       "..                                    ...   \n",
       "93            Observation et entrainement   \n",
       "94       Un pronom tonique(d i t  b  ng )   \n",
       "95                  l'amour - Les emotion   \n",
       "96                              Christmas   \n",
       "97                   Simple communication   \n",
       "\n",
       "                                                cards  \n",
       "0   ### Card 1\\nFront\\n* périmètre. PÉRIMÈTRE DU P...  \n",
       "1   ### Card 1\\nFront\\n* qu'est-ce qui vous est ar...  \n",
       "2   ### Card 1\\nFront\\n* deviner. Devine comment i...  \n",
       "3   ### Card 1\\nFront\\n* retarder. Cette montre re...  \n",
       "4   ### Card 1\\nFront\\n* prendre effet. Vos option...  \n",
       "..                                                ...  \n",
       "93  ### Card 1\\nFront\\n* paris va “gagner”\\n\\nBack...  \n",
       "94  ### Card 1\\nFront\\n* je\\n\\nBack\\n* moi\\n\\n### ...  \n",
       "95  ### Card 1\\nFront\\n* Gabriel \"rencontre\" Mathi...  \n",
       "96  ### Card 1\\nFront\\n* les premiers flocons de n...  \n",
       "97  ### Card 1\\nFront\\n* Vous êtes \"né(e)\" quand? ...  \n",
       "\n",
       "[98 rows x 2 columns]"
      ]
     },
     "execution_count": 17,
     "metadata": {},
     "output_type": "execute_result"
    }
   ],
   "source": [
    "df_cards_topic"
   ]
  },
  {
   "cell_type": "code",
   "execution_count": 18,
   "metadata": {},
   "outputs": [],
   "source": [
    "for index, row in df_cards_topic.iterrows():\n",
    "    cards = row['cards'].split('\\n###')\n",
    "    df_cards = pd.DataFrame(cards,columns = ['text'])\n",
    "    df_cards['front'] = df_cards['text'].apply(front)\n",
    "    df_cards['back'] = df_cards['text'].apply(back)\n",
    "    df_cards = df_cards[['front','back']]\n",
    "    path_csv = row['name'] + '.csv'\n",
    "    df_cards.to_csv(path_csv, index = False,encoding = 'utf-8-sig')"
   ]
  },
  {
   "cell_type": "code",
   "execution_count": null,
   "metadata": {},
   "outputs": [],
   "source": []
  },
  {
   "cell_type": "code",
   "execution_count": null,
   "metadata": {},
   "outputs": [],
   "source": []
  }
 ],
 "metadata": {
  "kernelspec": {
   "display_name": "Python 3",
   "language": "python",
   "name": "python3"
  },
  "language_info": {
   "codemirror_mode": {
    "name": "ipython",
    "version": 3
   },
   "file_extension": ".py",
   "mimetype": "text/x-python",
   "name": "python",
   "nbconvert_exporter": "python",
   "pygments_lexer": "ipython3",
   "version": "3.6.6"
  }
 },
 "nbformat": 4,
 "nbformat_minor": 4
}
